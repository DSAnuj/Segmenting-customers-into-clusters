{
 "cells": [
  {
   "cell_type": "code",
   "execution_count": 1,
   "id": "portable-probe",
   "metadata": {},
   "outputs": [],
   "source": [
    "# Importing Libraries\n",
    "\n",
    "import pandas as pd\n",
    "import numpy as np\n",
    "import matplotlib.pyplot as plt\n",
    "%matplotlib inline\n",
    "import seaborn as sns"
   ]
  },
  {
   "cell_type": "code",
   "execution_count": 2,
   "id": "crucial-differential",
   "metadata": {},
   "outputs": [],
   "source": [
    "df = pd.read_excel('Project 6-Segmenting customers into clusters-Dataset.xlsx')"
   ]
  },
  {
   "cell_type": "code",
   "execution_count": 3,
   "id": "comic-boxing",
   "metadata": {},
   "outputs": [
    {
     "data": {
      "text/html": [
       "<div>\n",
       "<style scoped>\n",
       "    .dataframe tbody tr th:only-of-type {\n",
       "        vertical-align: middle;\n",
       "    }\n",
       "\n",
       "    .dataframe tbody tr th {\n",
       "        vertical-align: top;\n",
       "    }\n",
       "\n",
       "    .dataframe thead th {\n",
       "        text-align: right;\n",
       "    }\n",
       "</style>\n",
       "<table border=\"1\" class=\"dataframe\">\n",
       "  <thead>\n",
       "    <tr style=\"text-align: right;\">\n",
       "      <th></th>\n",
       "      <th>InvoiceNo</th>\n",
       "      <th>StockCode</th>\n",
       "      <th>Description</th>\n",
       "      <th>Quantity</th>\n",
       "      <th>InvoiceDate</th>\n",
       "      <th>UnitPrice</th>\n",
       "      <th>CustomerID</th>\n",
       "      <th>Country</th>\n",
       "    </tr>\n",
       "  </thead>\n",
       "  <tbody>\n",
       "    <tr>\n",
       "      <th>0</th>\n",
       "      <td>536365</td>\n",
       "      <td>85123A</td>\n",
       "      <td>WHITE HANGING HEART T-LIGHT HOLDER</td>\n",
       "      <td>6</td>\n",
       "      <td>2010-12-01 08:26:00</td>\n",
       "      <td>2.55</td>\n",
       "      <td>17850.0</td>\n",
       "      <td>United Kingdom</td>\n",
       "    </tr>\n",
       "    <tr>\n",
       "      <th>1</th>\n",
       "      <td>536365</td>\n",
       "      <td>71053</td>\n",
       "      <td>WHITE METAL LANTERN</td>\n",
       "      <td>6</td>\n",
       "      <td>2010-12-01 08:26:00</td>\n",
       "      <td>3.39</td>\n",
       "      <td>17850.0</td>\n",
       "      <td>United Kingdom</td>\n",
       "    </tr>\n",
       "    <tr>\n",
       "      <th>2</th>\n",
       "      <td>536365</td>\n",
       "      <td>84406B</td>\n",
       "      <td>CREAM CUPID HEARTS COAT HANGER</td>\n",
       "      <td>8</td>\n",
       "      <td>2010-12-01 08:26:00</td>\n",
       "      <td>2.75</td>\n",
       "      <td>17850.0</td>\n",
       "      <td>United Kingdom</td>\n",
       "    </tr>\n",
       "    <tr>\n",
       "      <th>3</th>\n",
       "      <td>536365</td>\n",
       "      <td>84029G</td>\n",
       "      <td>KNITTED UNION FLAG HOT WATER BOTTLE</td>\n",
       "      <td>6</td>\n",
       "      <td>2010-12-01 08:26:00</td>\n",
       "      <td>3.39</td>\n",
       "      <td>17850.0</td>\n",
       "      <td>United Kingdom</td>\n",
       "    </tr>\n",
       "    <tr>\n",
       "      <th>4</th>\n",
       "      <td>536365</td>\n",
       "      <td>84029E</td>\n",
       "      <td>RED WOOLLY HOTTIE WHITE HEART.</td>\n",
       "      <td>6</td>\n",
       "      <td>2010-12-01 08:26:00</td>\n",
       "      <td>3.39</td>\n",
       "      <td>17850.0</td>\n",
       "      <td>United Kingdom</td>\n",
       "    </tr>\n",
       "  </tbody>\n",
       "</table>\n",
       "</div>"
      ],
      "text/plain": [
       "  InvoiceNo StockCode                          Description  Quantity  \\\n",
       "0    536365    85123A   WHITE HANGING HEART T-LIGHT HOLDER         6   \n",
       "1    536365     71053                  WHITE METAL LANTERN         6   \n",
       "2    536365    84406B       CREAM CUPID HEARTS COAT HANGER         8   \n",
       "3    536365    84029G  KNITTED UNION FLAG HOT WATER BOTTLE         6   \n",
       "4    536365    84029E       RED WOOLLY HOTTIE WHITE HEART.         6   \n",
       "\n",
       "          InvoiceDate  UnitPrice  CustomerID         Country  \n",
       "0 2010-12-01 08:26:00       2.55     17850.0  United Kingdom  \n",
       "1 2010-12-01 08:26:00       3.39     17850.0  United Kingdom  \n",
       "2 2010-12-01 08:26:00       2.75     17850.0  United Kingdom  \n",
       "3 2010-12-01 08:26:00       3.39     17850.0  United Kingdom  \n",
       "4 2010-12-01 08:26:00       3.39     17850.0  United Kingdom  "
      ]
     },
     "execution_count": 3,
     "metadata": {},
     "output_type": "execute_result"
    }
   ],
   "source": [
    "df.head()"
   ]
  },
  {
   "cell_type": "code",
   "execution_count": 7,
   "id": "sudden-heavy",
   "metadata": {},
   "outputs": [],
   "source": [
    "# Doing the exploratory data ananlysis of our dataframe"
   ]
  },
  {
   "cell_type": "code",
   "execution_count": 4,
   "id": "legendary-dinner",
   "metadata": {},
   "outputs": [
    {
     "data": {
      "text/plain": [
       "(541909, 8)"
      ]
     },
     "execution_count": 4,
     "metadata": {},
     "output_type": "execute_result"
    }
   ],
   "source": [
    "df.shape"
   ]
  },
  {
   "cell_type": "code",
   "execution_count": 6,
   "id": "under-dating",
   "metadata": {},
   "outputs": [
    {
     "data": {
      "text/html": [
       "<div>\n",
       "<style scoped>\n",
       "    .dataframe tbody tr th:only-of-type {\n",
       "        vertical-align: middle;\n",
       "    }\n",
       "\n",
       "    .dataframe tbody tr th {\n",
       "        vertical-align: top;\n",
       "    }\n",
       "\n",
       "    .dataframe thead th {\n",
       "        text-align: right;\n",
       "    }\n",
       "</style>\n",
       "<table border=\"1\" class=\"dataframe\">\n",
       "  <thead>\n",
       "    <tr style=\"text-align: right;\">\n",
       "      <th></th>\n",
       "      <th>Quantity</th>\n",
       "      <th>UnitPrice</th>\n",
       "      <th>CustomerID</th>\n",
       "    </tr>\n",
       "  </thead>\n",
       "  <tbody>\n",
       "    <tr>\n",
       "      <th>count</th>\n",
       "      <td>541909.000000</td>\n",
       "      <td>541909.000000</td>\n",
       "      <td>406829.000000</td>\n",
       "    </tr>\n",
       "    <tr>\n",
       "      <th>mean</th>\n",
       "      <td>9.552250</td>\n",
       "      <td>4.611114</td>\n",
       "      <td>15287.690570</td>\n",
       "    </tr>\n",
       "    <tr>\n",
       "      <th>std</th>\n",
       "      <td>218.081158</td>\n",
       "      <td>96.759853</td>\n",
       "      <td>1713.600303</td>\n",
       "    </tr>\n",
       "    <tr>\n",
       "      <th>min</th>\n",
       "      <td>-80995.000000</td>\n",
       "      <td>-11062.060000</td>\n",
       "      <td>12346.000000</td>\n",
       "    </tr>\n",
       "    <tr>\n",
       "      <th>25%</th>\n",
       "      <td>1.000000</td>\n",
       "      <td>1.250000</td>\n",
       "      <td>13953.000000</td>\n",
       "    </tr>\n",
       "    <tr>\n",
       "      <th>50%</th>\n",
       "      <td>3.000000</td>\n",
       "      <td>2.080000</td>\n",
       "      <td>15152.000000</td>\n",
       "    </tr>\n",
       "    <tr>\n",
       "      <th>75%</th>\n",
       "      <td>10.000000</td>\n",
       "      <td>4.130000</td>\n",
       "      <td>16791.000000</td>\n",
       "    </tr>\n",
       "    <tr>\n",
       "      <th>max</th>\n",
       "      <td>80995.000000</td>\n",
       "      <td>38970.000000</td>\n",
       "      <td>18287.000000</td>\n",
       "    </tr>\n",
       "  </tbody>\n",
       "</table>\n",
       "</div>"
      ],
      "text/plain": [
       "            Quantity      UnitPrice     CustomerID\n",
       "count  541909.000000  541909.000000  406829.000000\n",
       "mean        9.552250       4.611114   15287.690570\n",
       "std       218.081158      96.759853    1713.600303\n",
       "min    -80995.000000  -11062.060000   12346.000000\n",
       "25%         1.000000       1.250000   13953.000000\n",
       "50%         3.000000       2.080000   15152.000000\n",
       "75%        10.000000       4.130000   16791.000000\n",
       "max     80995.000000   38970.000000   18287.000000"
      ]
     },
     "execution_count": 6,
     "metadata": {},
     "output_type": "execute_result"
    }
   ],
   "source": [
    "df.describe()"
   ]
  },
  {
   "cell_type": "code",
   "execution_count": 15,
   "id": "cheap-dimension",
   "metadata": {},
   "outputs": [],
   "source": [
    "# both min values of quantity and unit prices are in negetive. This clearly indicates the presence of outliers.\n",
    "# also the maximum value seems to be way to much given standard deviation is way too low."
   ]
  },
  {
   "cell_type": "code",
   "execution_count": 8,
   "id": "understanding-breath",
   "metadata": {},
   "outputs": [
    {
     "name": "stdout",
     "output_type": "stream",
     "text": [
      "<class 'pandas.core.frame.DataFrame'>\n",
      "RangeIndex: 541909 entries, 0 to 541908\n",
      "Data columns (total 8 columns):\n",
      " #   Column       Non-Null Count   Dtype         \n",
      "---  ------       --------------   -----         \n",
      " 0   InvoiceNo    541909 non-null  object        \n",
      " 1   StockCode    541909 non-null  object        \n",
      " 2   Description  540455 non-null  object        \n",
      " 3   Quantity     541909 non-null  int64         \n",
      " 4   InvoiceDate  541909 non-null  datetime64[ns]\n",
      " 5   UnitPrice    541909 non-null  float64       \n",
      " 6   CustomerID   406829 non-null  float64       \n",
      " 7   Country      541909 non-null  object        \n",
      "dtypes: datetime64[ns](1), float64(2), int64(1), object(4)\n",
      "memory usage: 33.1+ MB\n"
     ]
    }
   ],
   "source": [
    "df.info()"
   ]
  },
  {
   "cell_type": "code",
   "execution_count": 10,
   "id": "behavioral-holocaust",
   "metadata": {},
   "outputs": [
    {
     "data": {
      "text/plain": [
       "InvoiceNo           0\n",
       "StockCode           0\n",
       "Description      1454\n",
       "Quantity            0\n",
       "InvoiceDate         0\n",
       "UnitPrice           0\n",
       "CustomerID     135080\n",
       "Country             0\n",
       "dtype: int64"
      ]
     },
     "execution_count": 10,
     "metadata": {},
     "output_type": "execute_result"
    }
   ],
   "source": [
    "# checking for null values\n",
    "\n",
    "df.isna().sum()"
   ]
  },
  {
   "cell_type": "code",
   "execution_count": 11,
   "id": "collective-publicity",
   "metadata": {},
   "outputs": [],
   "source": [
    "# There are null values in Description and Customer ID columns"
   ]
  },
  {
   "cell_type": "code",
   "execution_count": 12,
   "id": "instant-privilege",
   "metadata": {},
   "outputs": [],
   "source": [
    "# Now lets do univariate analysis of our data."
   ]
  },
  {
   "cell_type": "code",
   "execution_count": 13,
   "id": "mathematical-spending",
   "metadata": {},
   "outputs": [
    {
     "data": {
      "text/plain": [
       "25900"
      ]
     },
     "execution_count": 13,
     "metadata": {},
     "output_type": "execute_result"
    }
   ],
   "source": [
    "df['InvoiceNo'].nunique()"
   ]
  },
  {
   "cell_type": "code",
   "execution_count": 14,
   "id": "structured-things",
   "metadata": {},
   "outputs": [],
   "source": [
    "# Invoice No. has 25900 unique values in it. It is a 6 digit unique number for each transaction. i.e. there were a total of 25900 unique transactions."
   ]
  },
  {
   "cell_type": "code",
   "execution_count": 16,
   "id": "weekly-antique",
   "metadata": {},
   "outputs": [
    {
     "data": {
      "text/plain": [
       "4070"
      ]
     },
     "execution_count": 16,
     "metadata": {},
     "output_type": "execute_result"
    }
   ],
   "source": [
    "df['StockCode'].nunique()"
   ]
  },
  {
   "cell_type": "code",
   "execution_count": 17,
   "id": "heard-collins",
   "metadata": {},
   "outputs": [],
   "source": [
    "# 4070 unique values are present in Stock Code"
   ]
  },
  {
   "cell_type": "code",
   "execution_count": 19,
   "id": "heard-trout",
   "metadata": {},
   "outputs": [
    {
     "name": "stderr",
     "output_type": "stream",
     "text": [
      "C:\\ProgramData\\Anaconda3\\lib\\site-packages\\seaborn\\distributions.py:2557: FutureWarning: `distplot` is a deprecated function and will be removed in a future version. Please adapt your code to use either `displot` (a figure-level function with similar flexibility) or `histplot` (an axes-level function for histograms).\n",
      "  warnings.warn(msg, FutureWarning)\n"
     ]
    },
    {
     "data": {
      "text/plain": [
       "<AxesSubplot:xlabel='UnitPrice', ylabel='Density'>"
      ]
     },
     "execution_count": 19,
     "metadata": {},
     "output_type": "execute_result"
    },
    {
     "data": {
      "image/png": "[encoded data removed]",
      "text/plain": [
       "<Figure size 864x576 with 1 Axes>"
      ]
     },
     "metadata": {
      "needs_background": "light"
     },
     "output_type": "display_data"
    }
   ],
   "source": [
    "plt.figure(figsize = (12,8))\n",
    "sns.distplot(df['UnitPrice'])"
   ]
  },
  {
   "cell_type": "code",
   "execution_count": 20,
   "id": "elementary-visit",
   "metadata": {},
   "outputs": [],
   "source": [
    "# Most of the values are centered around 0 but their are outliers present at both the ends."
   ]
  },
  {
   "cell_type": "code",
   "execution_count": 22,
   "id": "electronic-birmingham",
   "metadata": {},
   "outputs": [
    {
     "data": {
      "text/plain": [
       "722"
      ]
     },
     "execution_count": 22,
     "metadata": {},
     "output_type": "execute_result"
    }
   ],
   "source": [
    "df['Quantity'].nunique()"
   ]
  },
  {
   "cell_type": "code",
   "execution_count": null,
   "id": "minimal-dependence",
   "metadata": {},
   "outputs": [],
   "source": [
    "# 722 unique values for the quantity. "
   ]
  },
  {
   "cell_type": "code",
   "execution_count": 23,
   "id": "compact-preservation",
   "metadata": {},
   "outputs": [
    {
     "name": "stderr",
     "output_type": "stream",
     "text": [
      "C:\\ProgramData\\Anaconda3\\lib\\site-packages\\seaborn\\distributions.py:2557: FutureWarning: `distplot` is a deprecated function and will be removed in a future version. Please adapt your code to use either `displot` (a figure-level function with similar flexibility) or `histplot` (an axes-level function for histograms).\n",
      "  warnings.warn(msg, FutureWarning)\n"
     ]
    },
    {
     "data": {
      "text/plain": [
       "<AxesSubplot:xlabel='Quantity', ylabel='Density'>"
      ]
     },
     "execution_count": 23,
     "metadata": {},
     "output_type": "execute_result"
    },
    {
     "data": {
      "image/png": "[encoded data removed]",
      "text/plain": [
       "<Figure size 864x576 with 1 Axes>"
      ]
     },
     "metadata": {
      "needs_background": "light"
     },
     "output_type": "display_data"
    }
   ],
   "source": [
    "# Lets plot and visualize the data for Quantity\n",
    "\n",
    "plt.figure(figsize = (12,8))\n",
    "sns.distplot(df['Quantity'])"
   ]
  },
  {
   "cell_type": "code",
   "execution_count": 24,
   "id": "vital-shannon",
   "metadata": {},
   "outputs": [],
   "source": [
    "# Here also...most of the quantities are around zero but their are extreame values at both ends too."
   ]
  },
  {
   "cell_type": "code",
   "execution_count": 25,
   "id": "incoming-struggle",
   "metadata": {},
   "outputs": [
    {
     "data": {
      "text/plain": [
       "4372"
      ]
     },
     "execution_count": 25,
     "metadata": {},
     "output_type": "execute_result"
    }
   ],
   "source": [
    "df['CustomerID'].nunique()"
   ]
  },
  {
   "cell_type": "code",
   "execution_count": 26,
   "id": "chicken-roommate",
   "metadata": {},
   "outputs": [
    {
     "data": {
      "text/plain": [
       "38"
      ]
     },
     "execution_count": 26,
     "metadata": {},
     "output_type": "execute_result"
    }
   ],
   "source": [
    "df['Country'].nunique()"
   ]
  },
  {
   "cell_type": "code",
   "execution_count": 27,
   "id": "daily-passage",
   "metadata": {},
   "outputs": [],
   "source": [
    "# We have 38 unique country values. Hence we can use get_dummies here to see for each country.\n",
    "# Let us start with our dataset creation."
   ]
  },
  {
   "cell_type": "code",
   "execution_count": 28,
   "id": "liberal-contents",
   "metadata": {},
   "outputs": [],
   "source": [
    "# First we will treat the null values. Also the features having them are of no use to us.\n",
    "# So we'll have to drop them."
   ]
  },
  {
   "cell_type": "code",
   "execution_count": 29,
   "id": "efficient-payroll",
   "metadata": {},
   "outputs": [],
   "source": [
    "# Dropping the null values row wise\n",
    "df.dropna(axis = 0 , inplace = True)"
   ]
  },
  {
   "cell_type": "code",
   "execution_count": 30,
   "id": "spread-while",
   "metadata": {},
   "outputs": [
    {
     "data": {
      "text/plain": [
       "InvoiceNo      0\n",
       "StockCode      0\n",
       "Description    0\n",
       "Quantity       0\n",
       "InvoiceDate    0\n",
       "UnitPrice      0\n",
       "CustomerID     0\n",
       "Country        0\n",
       "dtype: int64"
      ]
     },
     "execution_count": 30,
     "metadata": {},
     "output_type": "execute_result"
    }
   ],
   "source": [
    "df.isna().sum()"
   ]
  },
  {
   "cell_type": "code",
   "execution_count": 31,
   "id": "outer-mobility",
   "metadata": {},
   "outputs": [],
   "source": [
    "# null values are treated from our dataset."
   ]
  },
  {
   "cell_type": "code",
   "execution_count": 45,
   "id": "varied-melbourne",
   "metadata": {},
   "outputs": [
    {
     "data": {
      "text/plain": [
       "(406829, 8)"
      ]
     },
     "execution_count": 45,
     "metadata": {},
     "output_type": "execute_result"
    }
   ],
   "source": [
    "df.shape"
   ]
  },
  {
   "cell_type": "code",
   "execution_count": 33,
   "id": "analyzed-cross",
   "metadata": {},
   "outputs": [
    {
     "data": {
      "text/html": [
       "<div>\n",
       "<style scoped>\n",
       "    .dataframe tbody tr th:only-of-type {\n",
       "        vertical-align: middle;\n",
       "    }\n",
       "\n",
       "    .dataframe tbody tr th {\n",
       "        vertical-align: top;\n",
       "    }\n",
       "\n",
       "    .dataframe thead th {\n",
       "        text-align: right;\n",
       "    }\n",
       "</style>\n",
       "<table border=\"1\" class=\"dataframe\">\n",
       "  <thead>\n",
       "    <tr style=\"text-align: right;\">\n",
       "      <th></th>\n",
       "      <th>Quantity</th>\n",
       "      <th>UnitPrice</th>\n",
       "      <th>CustomerID</th>\n",
       "    </tr>\n",
       "  </thead>\n",
       "  <tbody>\n",
       "    <tr>\n",
       "      <th>count</th>\n",
       "      <td>406829.000000</td>\n",
       "      <td>406829.000000</td>\n",
       "      <td>406829.000000</td>\n",
       "    </tr>\n",
       "    <tr>\n",
       "      <th>mean</th>\n",
       "      <td>12.061303</td>\n",
       "      <td>3.460471</td>\n",
       "      <td>15287.690570</td>\n",
       "    </tr>\n",
       "    <tr>\n",
       "      <th>std</th>\n",
       "      <td>248.693370</td>\n",
       "      <td>69.315162</td>\n",
       "      <td>1713.600303</td>\n",
       "    </tr>\n",
       "    <tr>\n",
       "      <th>min</th>\n",
       "      <td>-80995.000000</td>\n",
       "      <td>0.000000</td>\n",
       "      <td>12346.000000</td>\n",
       "    </tr>\n",
       "    <tr>\n",
       "      <th>25%</th>\n",
       "      <td>2.000000</td>\n",
       "      <td>1.250000</td>\n",
       "      <td>13953.000000</td>\n",
       "    </tr>\n",
       "    <tr>\n",
       "      <th>50%</th>\n",
       "      <td>5.000000</td>\n",
       "      <td>1.950000</td>\n",
       "      <td>15152.000000</td>\n",
       "    </tr>\n",
       "    <tr>\n",
       "      <th>75%</th>\n",
       "      <td>12.000000</td>\n",
       "      <td>3.750000</td>\n",
       "      <td>16791.000000</td>\n",
       "    </tr>\n",
       "    <tr>\n",
       "      <th>max</th>\n",
       "      <td>80995.000000</td>\n",
       "      <td>38970.000000</td>\n",
       "      <td>18287.000000</td>\n",
       "    </tr>\n",
       "  </tbody>\n",
       "</table>\n",
       "</div>"
      ],
      "text/plain": [
       "            Quantity      UnitPrice     CustomerID\n",
       "count  406829.000000  406829.000000  406829.000000\n",
       "mean       12.061303       3.460471   15287.690570\n",
       "std       248.693370      69.315162    1713.600303\n",
       "min    -80995.000000       0.000000   12346.000000\n",
       "25%         2.000000       1.250000   13953.000000\n",
       "50%         5.000000       1.950000   15152.000000\n",
       "75%        12.000000       3.750000   16791.000000\n",
       "max     80995.000000   38970.000000   18287.000000"
      ]
     },
     "execution_count": 33,
     "metadata": {},
     "output_type": "execute_result"
    }
   ],
   "source": [
    "df.describe()"
   ]
  },
  {
   "cell_type": "code",
   "execution_count": 34,
   "id": "economic-stone",
   "metadata": {},
   "outputs": [],
   "source": [
    "# Now let us treat the Outliers from the dataset."
   ]
  },
  {
   "cell_type": "code",
   "execution_count": 35,
   "id": "sudden-victoria",
   "metadata": {},
   "outputs": [],
   "source": [
    "# We will treat the outliers on the basis of quantiles since we dont know the constraints on our data."
   ]
  },
  {
   "cell_type": "code",
   "execution_count": 38,
   "id": "frozen-hawaiian",
   "metadata": {},
   "outputs": [
    {
     "data": {
      "text/plain": [
       "(50.0, 1.0)"
      ]
     },
     "execution_count": 38,
     "metadata": {},
     "output_type": "execute_result"
    }
   ],
   "source": [
    "upper_limit = df['Quantity'].quantile(0.97)\n",
    "lower_limit = df['Quantity'].quantile(0.03)\n",
    "upper_limit , lower_limit"
   ]
  },
  {
   "cell_type": "code",
   "execution_count": 39,
   "id": "initial-louisville",
   "metadata": {},
   "outputs": [],
   "source": [
    "# We will preserve 97% of the data."
   ]
  },
  {
   "cell_type": "code",
   "execution_count": 42,
   "id": "prerequisite-attack",
   "metadata": {},
   "outputs": [],
   "source": [
    "def outlier_treatment(quantity):\n",
    "    if quantity <= upper_limit and quantity >= lower_limit:\n",
    "        return quantity\n",
    "    elif quantity > upper_limit:\n",
    "        return upper_limit\n",
    "    elif quantity < lower_limit:\n",
    "        return lower_limit"
   ]
  },
  {
   "cell_type": "code",
   "execution_count": 43,
   "id": "quiet-raise",
   "metadata": {},
   "outputs": [],
   "source": [
    "df['Quantity'] = df['Quantity'].map(lambda Quantity:outlier_treatment(Quantity))"
   ]
  },
  {
   "cell_type": "code",
   "execution_count": 44,
   "id": "subsequent-warren",
   "metadata": {},
   "outputs": [
    {
     "data": {
      "text/plain": [
       "count    406829.000000\n",
       "mean          9.315044\n",
       "std          11.474169\n",
       "min           1.000000\n",
       "25%           2.000000\n",
       "50%           5.000000\n",
       "75%          12.000000\n",
       "max          50.000000\n",
       "Name: Quantity, dtype: float64"
      ]
     },
     "execution_count": 44,
     "metadata": {},
     "output_type": "execute_result"
    }
   ],
   "source": [
    "df['Quantity'].describe()"
   ]
  },
  {
   "cell_type": "code",
   "execution_count": 46,
   "id": "visible-plaintiff",
   "metadata": {},
   "outputs": [],
   "source": [
    "# Outliers successfully treated in Quantity variable."
   ]
  },
  {
   "cell_type": "code",
   "execution_count": 47,
   "id": "fifteen-forest",
   "metadata": {},
   "outputs": [],
   "source": [
    "# now lets go for unit price variable"
   ]
  },
  {
   "cell_type": "code",
   "execution_count": 48,
   "id": "seeing-indonesia",
   "metadata": {},
   "outputs": [
    {
     "data": {
      "text/plain": [
       "count    406829.000000\n",
       "mean          3.460471\n",
       "std          69.315162\n",
       "min           0.000000\n",
       "25%           1.250000\n",
       "50%           1.950000\n",
       "75%           3.750000\n",
       "max       38970.000000\n",
       "Name: UnitPrice, dtype: float64"
      ]
     },
     "execution_count": 48,
     "metadata": {},
     "output_type": "execute_result"
    }
   ],
   "source": [
    "df['UnitPrice'].describe()"
   ]
  },
  {
   "cell_type": "code",
   "execution_count": 49,
   "id": "promotional-manual",
   "metadata": {},
   "outputs": [
    {
     "data": {
      "text/plain": [
       "(15.0, 0.21)"
      ]
     },
     "execution_count": 49,
     "metadata": {},
     "output_type": "execute_result"
    }
   ],
   "source": [
    "upper_value = df['UnitPrice'].quantile(0.99)\n",
    "lower_value = df['UnitPrice'].quantile(0.01)\n",
    "upper_value , lower_value"
   ]
  },
  {
   "cell_type": "code",
   "execution_count": 50,
   "id": "desperate-terminal",
   "metadata": {},
   "outputs": [],
   "source": [
    "# Preserving 99% of the data and doing outlier treatment"
   ]
  },
  {
   "cell_type": "code",
   "execution_count": 51,
   "id": "revolutionary-maximum",
   "metadata": {},
   "outputs": [],
   "source": [
    "def outlier_removal(price):\n",
    "    if price <= upper_value and price >= lower_value:\n",
    "        return price\n",
    "    elif price > upper_value:\n",
    "        return upper_value\n",
    "    elif price < lower_value:\n",
    "        return lower_value"
   ]
  },
  {
   "cell_type": "code",
   "execution_count": 52,
   "id": "thirty-commissioner",
   "metadata": {},
   "outputs": [],
   "source": [
    "df['UnitPrice'] = df['UnitPrice'].map(lambda UnitPrice:outlier_removal(UnitPrice))"
   ]
  },
  {
   "cell_type": "code",
   "execution_count": 53,
   "id": "olympic-juvenile",
   "metadata": {},
   "outputs": [
    {
     "data": {
      "text/plain": [
       "count    406829.000000\n",
       "mean          2.858697\n",
       "std           2.824336\n",
       "min           0.210000\n",
       "25%           1.250000\n",
       "50%           1.950000\n",
       "75%           3.750000\n",
       "max          15.000000\n",
       "Name: UnitPrice, dtype: float64"
      ]
     },
     "execution_count": 53,
     "metadata": {},
     "output_type": "execute_result"
    }
   ],
   "source": [
    "df['UnitPrice'].describe()"
   ]
  },
  {
   "cell_type": "code",
   "execution_count": 54,
   "id": "humanitarian-impact",
   "metadata": {},
   "outputs": [],
   "source": [
    "import datetime"
   ]
  },
  {
   "cell_type": "code",
   "execution_count": 55,
   "id": "marine-friendly",
   "metadata": {},
   "outputs": [
    {
     "data": {
      "text/plain": [
       "0   2010-12-01 08:26:00\n",
       "1   2010-12-01 08:26:00\n",
       "2   2010-12-01 08:26:00\n",
       "3   2010-12-01 08:26:00\n",
       "4   2010-12-01 08:26:00\n",
       "Name: InvoiceDate, dtype: datetime64[ns]"
      ]
     },
     "execution_count": 55,
     "metadata": {},
     "output_type": "execute_result"
    }
   ],
   "source": [
    "df['InvoiceDate'].head()"
   ]
  },
  {
   "cell_type": "code",
   "execution_count": 56,
   "id": "closing-eating",
   "metadata": {},
   "outputs": [],
   "source": [
    "df['Hour_of_day'] = df['InvoiceDate'].dt.hour"
   ]
  },
  {
   "cell_type": "code",
   "execution_count": 57,
   "id": "pressing-florist",
   "metadata": {},
   "outputs": [],
   "source": [
    "df['weekday'] = df['InvoiceDate'].dt.day_of_week"
   ]
  },
  {
   "cell_type": "code",
   "execution_count": 58,
   "id": "annoying-aging",
   "metadata": {},
   "outputs": [],
   "source": [
    "df['month'] = df['InvoiceDate'].dt.month"
   ]
  },
  {
   "cell_type": "code",
   "execution_count": 59,
   "id": "every-effect",
   "metadata": {},
   "outputs": [
    {
     "data": {
      "text/html": [
       "<div>\n",
       "<style scoped>\n",
       "    .dataframe tbody tr th:only-of-type {\n",
       "        vertical-align: middle;\n",
       "    }\n",
       "\n",
       "    .dataframe tbody tr th {\n",
       "        vertical-align: top;\n",
       "    }\n",
       "\n",
       "    .dataframe thead th {\n",
       "        text-align: right;\n",
       "    }\n",
       "</style>\n",
       "<table border=\"1\" class=\"dataframe\">\n",
       "  <thead>\n",
       "    <tr style=\"text-align: right;\">\n",
       "      <th></th>\n",
       "      <th>InvoiceNo</th>\n",
       "      <th>StockCode</th>\n",
       "      <th>Description</th>\n",
       "      <th>Quantity</th>\n",
       "      <th>InvoiceDate</th>\n",
       "      <th>UnitPrice</th>\n",
       "      <th>CustomerID</th>\n",
       "      <th>Country</th>\n",
       "      <th>Hour_of_day</th>\n",
       "      <th>weekday</th>\n",
       "      <th>month</th>\n",
       "    </tr>\n",
       "  </thead>\n",
       "  <tbody>\n",
       "    <tr>\n",
       "      <th>0</th>\n",
       "      <td>536365</td>\n",
       "      <td>85123A</td>\n",
       "      <td>WHITE HANGING HEART T-LIGHT HOLDER</td>\n",
       "      <td>6.0</td>\n",
       "      <td>2010-12-01 08:26:00</td>\n",
       "      <td>2.55</td>\n",
       "      <td>17850.0</td>\n",
       "      <td>United Kingdom</td>\n",
       "      <td>8</td>\n",
       "      <td>2</td>\n",
       "      <td>12</td>\n",
       "    </tr>\n",
       "    <tr>\n",
       "      <th>1</th>\n",
       "      <td>536365</td>\n",
       "      <td>71053</td>\n",
       "      <td>WHITE METAL LANTERN</td>\n",
       "      <td>6.0</td>\n",
       "      <td>2010-12-01 08:26:00</td>\n",
       "      <td>3.39</td>\n",
       "      <td>17850.0</td>\n",
       "      <td>United Kingdom</td>\n",
       "      <td>8</td>\n",
       "      <td>2</td>\n",
       "      <td>12</td>\n",
       "    </tr>\n",
       "    <tr>\n",
       "      <th>2</th>\n",
       "      <td>536365</td>\n",
       "      <td>84406B</td>\n",
       "      <td>CREAM CUPID HEARTS COAT HANGER</td>\n",
       "      <td>8.0</td>\n",
       "      <td>2010-12-01 08:26:00</td>\n",
       "      <td>2.75</td>\n",
       "      <td>17850.0</td>\n",
       "      <td>United Kingdom</td>\n",
       "      <td>8</td>\n",
       "      <td>2</td>\n",
       "      <td>12</td>\n",
       "    </tr>\n",
       "    <tr>\n",
       "      <th>3</th>\n",
       "      <td>536365</td>\n",
       "      <td>84029G</td>\n",
       "      <td>KNITTED UNION FLAG HOT WATER BOTTLE</td>\n",
       "      <td>6.0</td>\n",
       "      <td>2010-12-01 08:26:00</td>\n",
       "      <td>3.39</td>\n",
       "      <td>17850.0</td>\n",
       "      <td>United Kingdom</td>\n",
       "      <td>8</td>\n",
       "      <td>2</td>\n",
       "      <td>12</td>\n",
       "    </tr>\n",
       "    <tr>\n",
       "      <th>4</th>\n",
       "      <td>536365</td>\n",
       "      <td>84029E</td>\n",
       "      <td>RED WOOLLY HOTTIE WHITE HEART.</td>\n",
       "      <td>6.0</td>\n",
       "      <td>2010-12-01 08:26:00</td>\n",
       "      <td>3.39</td>\n",
       "      <td>17850.0</td>\n",
       "      <td>United Kingdom</td>\n",
       "      <td>8</td>\n",
       "      <td>2</td>\n",
       "      <td>12</td>\n",
       "    </tr>\n",
       "  </tbody>\n",
       "</table>\n",
       "</div>"
      ],
      "text/plain": [
       "  InvoiceNo StockCode                          Description  Quantity  \\\n",
       "0    536365    85123A   WHITE HANGING HEART T-LIGHT HOLDER       6.0   \n",
       "1    536365     71053                  WHITE METAL LANTERN       6.0   \n",
       "2    536365    84406B       CREAM CUPID HEARTS COAT HANGER       8.0   \n",
       "3    536365    84029G  KNITTED UNION FLAG HOT WATER BOTTLE       6.0   \n",
       "4    536365    84029E       RED WOOLLY HOTTIE WHITE HEART.       6.0   \n",
       "\n",
       "          InvoiceDate  UnitPrice  CustomerID         Country  Hour_of_day  \\\n",
       "0 2010-12-01 08:26:00       2.55     17850.0  United Kingdom            8   \n",
       "1 2010-12-01 08:26:00       3.39     17850.0  United Kingdom            8   \n",
       "2 2010-12-01 08:26:00       2.75     17850.0  United Kingdom            8   \n",
       "3 2010-12-01 08:26:00       3.39     17850.0  United Kingdom            8   \n",
       "4 2010-12-01 08:26:00       3.39     17850.0  United Kingdom            8   \n",
       "\n",
       "   weekday  month  \n",
       "0        2     12  \n",
       "1        2     12  \n",
       "2        2     12  \n",
       "3        2     12  \n",
       "4        2     12  "
      ]
     },
     "execution_count": 59,
     "metadata": {},
     "output_type": "execute_result"
    }
   ],
   "source": [
    "df.head()"
   ]
  },
  {
   "cell_type": "code",
   "execution_count": 60,
   "id": "increased-punch",
   "metadata": {},
   "outputs": [
    {
     "data": {
      "text/plain": [
       "array([ 8,  9, 10, 11, 12, 13, 14, 15, 16, 17,  7, 18, 19, 20,  6],\n",
       "      dtype=int64)"
      ]
     },
     "execution_count": 60,
     "metadata": {},
     "output_type": "execute_result"
    }
   ],
   "source": [
    "df['Hour_of_day'].unique()"
   ]
  },
  {
   "cell_type": "code",
   "execution_count": 61,
   "id": "thirty-partnership",
   "metadata": {},
   "outputs": [],
   "source": [
    "# The shop opens from 6 in morning to 8'o clock in the evening."
   ]
  },
  {
   "cell_type": "code",
   "execution_count": 62,
   "id": "prime-identity",
   "metadata": {},
   "outputs": [
    {
     "data": {
      "text/plain": [
       "array([2, 3, 4, 6, 0, 1], dtype=int64)"
      ]
     },
     "execution_count": 62,
     "metadata": {},
     "output_type": "execute_result"
    }
   ],
   "source": [
    "df['weekday'].unique()"
   ]
  },
  {
   "cell_type": "code",
   "execution_count": 63,
   "id": "wanted-street",
   "metadata": {},
   "outputs": [],
   "source": [
    "# The shops used to have saturdays off."
   ]
  },
  {
   "cell_type": "code",
   "execution_count": 64,
   "id": "exterior-shape",
   "metadata": {},
   "outputs": [
    {
     "data": {
      "text/plain": [
       "array([12,  1,  2,  3,  4,  5,  6,  7,  8,  9, 10, 11], dtype=int64)"
      ]
     },
     "execution_count": 64,
     "metadata": {},
     "output_type": "execute_result"
    }
   ],
   "source": [
    "df['month'].unique()"
   ]
  },
  {
   "cell_type": "code",
   "execution_count": 65,
   "id": "defined-inclusion",
   "metadata": {},
   "outputs": [],
   "source": [
    "# The shop was open throughout the year."
   ]
  },
  {
   "cell_type": "code",
   "execution_count": null,
   "id": "competitive-surface",
   "metadata": {},
   "outputs": [],
   "source": []
  },
  {
   "cell_type": "code",
   "execution_count": 66,
   "id": "british-entrepreneur",
   "metadata": {},
   "outputs": [],
   "source": [
    "# Getting the get_dummies on Country variable."
   ]
  },
  {
   "cell_type": "code",
   "execution_count": 67,
   "id": "exceptional-registration",
   "metadata": {},
   "outputs": [],
   "source": [
    "Countries = pd.get_dummies(df['Country'])"
   ]
  },
  {
   "cell_type": "code",
   "execution_count": 68,
   "id": "western-irrigation",
   "metadata": {},
   "outputs": [],
   "source": [
    "df = pd.concat([df , Countries] , axis = 1)"
   ]
  },
  {
   "cell_type": "code",
   "execution_count": 69,
   "id": "considered-daily",
   "metadata": {},
   "outputs": [
    {
     "data": {
      "text/html": [
       "<div>\n",
       "<style scoped>\n",
       "    .dataframe tbody tr th:only-of-type {\n",
       "        vertical-align: middle;\n",
       "    }\n",
       "\n",
       "    .dataframe tbody tr th {\n",
       "        vertical-align: top;\n",
       "    }\n",
       "\n",
       "    .dataframe thead th {\n",
       "        text-align: right;\n",
       "    }\n",
       "</style>\n",
       "<table border=\"1\" class=\"dataframe\">\n",
       "  <thead>\n",
       "    <tr style=\"text-align: right;\">\n",
       "      <th></th>\n",
       "      <th>InvoiceNo</th>\n",
       "      <th>StockCode</th>\n",
       "      <th>Description</th>\n",
       "      <th>Quantity</th>\n",
       "      <th>InvoiceDate</th>\n",
       "      <th>UnitPrice</th>\n",
       "      <th>CustomerID</th>\n",
       "      <th>Country</th>\n",
       "      <th>Hour_of_day</th>\n",
       "      <th>weekday</th>\n",
       "      <th>...</th>\n",
       "      <th>RSA</th>\n",
       "      <th>Saudi Arabia</th>\n",
       "      <th>Singapore</th>\n",
       "      <th>Spain</th>\n",
       "      <th>Sweden</th>\n",
       "      <th>Switzerland</th>\n",
       "      <th>USA</th>\n",
       "      <th>United Arab Emirates</th>\n",
       "      <th>United Kingdom</th>\n",
       "      <th>Unspecified</th>\n",
       "    </tr>\n",
       "  </thead>\n",
       "  <tbody>\n",
       "    <tr>\n",
       "      <th>0</th>\n",
       "      <td>536365</td>\n",
       "      <td>85123A</td>\n",
       "      <td>WHITE HANGING HEART T-LIGHT HOLDER</td>\n",
       "      <td>6.0</td>\n",
       "      <td>2010-12-01 08:26:00</td>\n",
       "      <td>2.55</td>\n",
       "      <td>17850.0</td>\n",
       "      <td>United Kingdom</td>\n",
       "      <td>8</td>\n",
       "      <td>2</td>\n",
       "      <td>...</td>\n",
       "      <td>0</td>\n",
       "      <td>0</td>\n",
       "      <td>0</td>\n",
       "      <td>0</td>\n",
       "      <td>0</td>\n",
       "      <td>0</td>\n",
       "      <td>0</td>\n",
       "      <td>0</td>\n",
       "      <td>1</td>\n",
       "      <td>0</td>\n",
       "    </tr>\n",
       "    <tr>\n",
       "      <th>1</th>\n",
       "      <td>536365</td>\n",
       "      <td>71053</td>\n",
       "      <td>WHITE METAL LANTERN</td>\n",
       "      <td>6.0</td>\n",
       "      <td>2010-12-01 08:26:00</td>\n",
       "      <td>3.39</td>\n",
       "      <td>17850.0</td>\n",
       "      <td>United Kingdom</td>\n",
       "      <td>8</td>\n",
       "      <td>2</td>\n",
       "      <td>...</td>\n",
       "      <td>0</td>\n",
       "      <td>0</td>\n",
       "      <td>0</td>\n",
       "      <td>0</td>\n",
       "      <td>0</td>\n",
       "      <td>0</td>\n",
       "      <td>0</td>\n",
       "      <td>0</td>\n",
       "      <td>1</td>\n",
       "      <td>0</td>\n",
       "    </tr>\n",
       "    <tr>\n",
       "      <th>2</th>\n",
       "      <td>536365</td>\n",
       "      <td>84406B</td>\n",
       "      <td>CREAM CUPID HEARTS COAT HANGER</td>\n",
       "      <td>8.0</td>\n",
       "      <td>2010-12-01 08:26:00</td>\n",
       "      <td>2.75</td>\n",
       "      <td>17850.0</td>\n",
       "      <td>United Kingdom</td>\n",
       "      <td>8</td>\n",
       "      <td>2</td>\n",
       "      <td>...</td>\n",
       "      <td>0</td>\n",
       "      <td>0</td>\n",
       "      <td>0</td>\n",
       "      <td>0</td>\n",
       "      <td>0</td>\n",
       "      <td>0</td>\n",
       "      <td>0</td>\n",
       "      <td>0</td>\n",
       "      <td>1</td>\n",
       "      <td>0</td>\n",
       "    </tr>\n",
       "    <tr>\n",
       "      <th>3</th>\n",
       "      <td>536365</td>\n",
       "      <td>84029G</td>\n",
       "      <td>KNITTED UNION FLAG HOT WATER BOTTLE</td>\n",
       "      <td>6.0</td>\n",
       "      <td>2010-12-01 08:26:00</td>\n",
       "      <td>3.39</td>\n",
       "      <td>17850.0</td>\n",
       "      <td>United Kingdom</td>\n",
       "      <td>8</td>\n",
       "      <td>2</td>\n",
       "      <td>...</td>\n",
       "      <td>0</td>\n",
       "      <td>0</td>\n",
       "      <td>0</td>\n",
       "      <td>0</td>\n",
       "      <td>0</td>\n",
       "      <td>0</td>\n",
       "      <td>0</td>\n",
       "      <td>0</td>\n",
       "      <td>1</td>\n",
       "      <td>0</td>\n",
       "    </tr>\n",
       "    <tr>\n",
       "      <th>4</th>\n",
       "      <td>536365</td>\n",
       "      <td>84029E</td>\n",
       "      <td>RED WOOLLY HOTTIE WHITE HEART.</td>\n",
       "      <td>6.0</td>\n",
       "      <td>2010-12-01 08:26:00</td>\n",
       "      <td>3.39</td>\n",
       "      <td>17850.0</td>\n",
       "      <td>United Kingdom</td>\n",
       "      <td>8</td>\n",
       "      <td>2</td>\n",
       "      <td>...</td>\n",
       "      <td>0</td>\n",
       "      <td>0</td>\n",
       "      <td>0</td>\n",
       "      <td>0</td>\n",
       "      <td>0</td>\n",
       "      <td>0</td>\n",
       "      <td>0</td>\n",
       "      <td>0</td>\n",
       "      <td>1</td>\n",
       "      <td>0</td>\n",
       "    </tr>\n",
       "  </tbody>\n",
       "</table>\n",
       "<p>5 rows × 48 columns</p>\n",
       "</div>"
      ],
      "text/plain": [
       "  InvoiceNo StockCode                          Description  Quantity  \\\n",
       "0    536365    85123A   WHITE HANGING HEART T-LIGHT HOLDER       6.0   \n",
       "1    536365     71053                  WHITE METAL LANTERN       6.0   \n",
       "2    536365    84406B       CREAM CUPID HEARTS COAT HANGER       8.0   \n",
       "3    536365    84029G  KNITTED UNION FLAG HOT WATER BOTTLE       6.0   \n",
       "4    536365    84029E       RED WOOLLY HOTTIE WHITE HEART.       6.0   \n",
       "\n",
       "          InvoiceDate  UnitPrice  CustomerID         Country  Hour_of_day  \\\n",
       "0 2010-12-01 08:26:00       2.55     17850.0  United Kingdom            8   \n",
       "1 2010-12-01 08:26:00       3.39     17850.0  United Kingdom            8   \n",
       "2 2010-12-01 08:26:00       2.75     17850.0  United Kingdom            8   \n",
       "3 2010-12-01 08:26:00       3.39     17850.0  United Kingdom            8   \n",
       "4 2010-12-01 08:26:00       3.39     17850.0  United Kingdom            8   \n",
       "\n",
       "   weekday  ...  RSA  Saudi Arabia  Singapore  Spain  Sweden  Switzerland  \\\n",
       "0        2  ...    0             0          0      0       0            0   \n",
       "1        2  ...    0             0          0      0       0            0   \n",
       "2        2  ...    0             0          0      0       0            0   \n",
       "3        2  ...    0             0          0      0       0            0   \n",
       "4        2  ...    0             0          0      0       0            0   \n",
       "\n",
       "   USA  United Arab Emirates  United Kingdom  Unspecified  \n",
       "0    0                     0               1            0  \n",
       "1    0                     0               1            0  \n",
       "2    0                     0               1            0  \n",
       "3    0                     0               1            0  \n",
       "4    0                     0               1            0  \n",
       "\n",
       "[5 rows x 48 columns]"
      ]
     },
     "execution_count": 69,
     "metadata": {},
     "output_type": "execute_result"
    }
   ],
   "source": [
    "df.head()"
   ]
  },
  {
   "cell_type": "code",
   "execution_count": 70,
   "id": "structural-serial",
   "metadata": {},
   "outputs": [],
   "source": [
    "df.drop(['InvoiceNo' , 'StockCode' , 'Description' , 'InvoiceDate' , 'CustomerID' , 'Country'] , axis = 1 , inplace = True)"
   ]
  },
  {
   "cell_type": "code",
   "execution_count": 71,
   "id": "vital-shift",
   "metadata": {},
   "outputs": [
    {
     "data": {
      "text/html": [
       "<div>\n",
       "<style scoped>\n",
       "    .dataframe tbody tr th:only-of-type {\n",
       "        vertical-align: middle;\n",
       "    }\n",
       "\n",
       "    .dataframe tbody tr th {\n",
       "        vertical-align: top;\n",
       "    }\n",
       "\n",
       "    .dataframe thead th {\n",
       "        text-align: right;\n",
       "    }\n",
       "</style>\n",
       "<table border=\"1\" class=\"dataframe\">\n",
       "  <thead>\n",
       "    <tr style=\"text-align: right;\">\n",
       "      <th></th>\n",
       "      <th>Quantity</th>\n",
       "      <th>UnitPrice</th>\n",
       "      <th>Hour_of_day</th>\n",
       "      <th>weekday</th>\n",
       "      <th>month</th>\n",
       "      <th>Australia</th>\n",
       "      <th>Austria</th>\n",
       "      <th>Bahrain</th>\n",
       "      <th>Belgium</th>\n",
       "      <th>Brazil</th>\n",
       "      <th>...</th>\n",
       "      <th>RSA</th>\n",
       "      <th>Saudi Arabia</th>\n",
       "      <th>Singapore</th>\n",
       "      <th>Spain</th>\n",
       "      <th>Sweden</th>\n",
       "      <th>Switzerland</th>\n",
       "      <th>USA</th>\n",
       "      <th>United Arab Emirates</th>\n",
       "      <th>United Kingdom</th>\n",
       "      <th>Unspecified</th>\n",
       "    </tr>\n",
       "  </thead>\n",
       "  <tbody>\n",
       "    <tr>\n",
       "      <th>0</th>\n",
       "      <td>6.0</td>\n",
       "      <td>2.55</td>\n",
       "      <td>8</td>\n",
       "      <td>2</td>\n",
       "      <td>12</td>\n",
       "      <td>0</td>\n",
       "      <td>0</td>\n",
       "      <td>0</td>\n",
       "      <td>0</td>\n",
       "      <td>0</td>\n",
       "      <td>...</td>\n",
       "      <td>0</td>\n",
       "      <td>0</td>\n",
       "      <td>0</td>\n",
       "      <td>0</td>\n",
       "      <td>0</td>\n",
       "      <td>0</td>\n",
       "      <td>0</td>\n",
       "      <td>0</td>\n",
       "      <td>1</td>\n",
       "      <td>0</td>\n",
       "    </tr>\n",
       "    <tr>\n",
       "      <th>1</th>\n",
       "      <td>6.0</td>\n",
       "      <td>3.39</td>\n",
       "      <td>8</td>\n",
       "      <td>2</td>\n",
       "      <td>12</td>\n",
       "      <td>0</td>\n",
       "      <td>0</td>\n",
       "      <td>0</td>\n",
       "      <td>0</td>\n",
       "      <td>0</td>\n",
       "      <td>...</td>\n",
       "      <td>0</td>\n",
       "      <td>0</td>\n",
       "      <td>0</td>\n",
       "      <td>0</td>\n",
       "      <td>0</td>\n",
       "      <td>0</td>\n",
       "      <td>0</td>\n",
       "      <td>0</td>\n",
       "      <td>1</td>\n",
       "      <td>0</td>\n",
       "    </tr>\n",
       "    <tr>\n",
       "      <th>2</th>\n",
       "      <td>8.0</td>\n",
       "      <td>2.75</td>\n",
       "      <td>8</td>\n",
       "      <td>2</td>\n",
       "      <td>12</td>\n",
       "      <td>0</td>\n",
       "      <td>0</td>\n",
       "      <td>0</td>\n",
       "      <td>0</td>\n",
       "      <td>0</td>\n",
       "      <td>...</td>\n",
       "      <td>0</td>\n",
       "      <td>0</td>\n",
       "      <td>0</td>\n",
       "      <td>0</td>\n",
       "      <td>0</td>\n",
       "      <td>0</td>\n",
       "      <td>0</td>\n",
       "      <td>0</td>\n",
       "      <td>1</td>\n",
       "      <td>0</td>\n",
       "    </tr>\n",
       "    <tr>\n",
       "      <th>3</th>\n",
       "      <td>6.0</td>\n",
       "      <td>3.39</td>\n",
       "      <td>8</td>\n",
       "      <td>2</td>\n",
       "      <td>12</td>\n",
       "      <td>0</td>\n",
       "      <td>0</td>\n",
       "      <td>0</td>\n",
       "      <td>0</td>\n",
       "      <td>0</td>\n",
       "      <td>...</td>\n",
       "      <td>0</td>\n",
       "      <td>0</td>\n",
       "      <td>0</td>\n",
       "      <td>0</td>\n",
       "      <td>0</td>\n",
       "      <td>0</td>\n",
       "      <td>0</td>\n",
       "      <td>0</td>\n",
       "      <td>1</td>\n",
       "      <td>0</td>\n",
       "    </tr>\n",
       "    <tr>\n",
       "      <th>4</th>\n",
       "      <td>6.0</td>\n",
       "      <td>3.39</td>\n",
       "      <td>8</td>\n",
       "      <td>2</td>\n",
       "      <td>12</td>\n",
       "      <td>0</td>\n",
       "      <td>0</td>\n",
       "      <td>0</td>\n",
       "      <td>0</td>\n",
       "      <td>0</td>\n",
       "      <td>...</td>\n",
       "      <td>0</td>\n",
       "      <td>0</td>\n",
       "      <td>0</td>\n",
       "      <td>0</td>\n",
       "      <td>0</td>\n",
       "      <td>0</td>\n",
       "      <td>0</td>\n",
       "      <td>0</td>\n",
       "      <td>1</td>\n",
       "      <td>0</td>\n",
       "    </tr>\n",
       "  </tbody>\n",
       "</table>\n",
       "<p>5 rows × 42 columns</p>\n",
       "</div>"
      ],
      "text/plain": [
       "   Quantity  UnitPrice  Hour_of_day  weekday  month  Australia  Austria  \\\n",
       "0       6.0       2.55            8        2     12          0        0   \n",
       "1       6.0       3.39            8        2     12          0        0   \n",
       "2       8.0       2.75            8        2     12          0        0   \n",
       "3       6.0       3.39            8        2     12          0        0   \n",
       "4       6.0       3.39            8        2     12          0        0   \n",
       "\n",
       "   Bahrain  Belgium  Brazil  ...  RSA  Saudi Arabia  Singapore  Spain  Sweden  \\\n",
       "0        0        0       0  ...    0             0          0      0       0   \n",
       "1        0        0       0  ...    0             0          0      0       0   \n",
       "2        0        0       0  ...    0             0          0      0       0   \n",
       "3        0        0       0  ...    0             0          0      0       0   \n",
       "4        0        0       0  ...    0             0          0      0       0   \n",
       "\n",
       "   Switzerland  USA  United Arab Emirates  United Kingdom  Unspecified  \n",
       "0            0    0                     0               1            0  \n",
       "1            0    0                     0               1            0  \n",
       "2            0    0                     0               1            0  \n",
       "3            0    0                     0               1            0  \n",
       "4            0    0                     0               1            0  \n",
       "\n",
       "[5 rows x 42 columns]"
      ]
     },
     "execution_count": 71,
     "metadata": {},
     "output_type": "execute_result"
    }
   ],
   "source": [
    "df.head()"
   ]
  },
  {
   "cell_type": "code",
   "execution_count": 72,
   "id": "rational-riverside",
   "metadata": {},
   "outputs": [
    {
     "name": "stdout",
     "output_type": "stream",
     "text": [
      "<class 'pandas.core.frame.DataFrame'>\n",
      "Int64Index: 406829 entries, 0 to 541908\n",
      "Data columns (total 42 columns):\n",
      " #   Column                Non-Null Count   Dtype  \n",
      "---  ------                --------------   -----  \n",
      " 0   Quantity              406829 non-null  float64\n",
      " 1   UnitPrice             406829 non-null  float64\n",
      " 2   Hour_of_day           406829 non-null  int64  \n",
      " 3   weekday               406829 non-null  int64  \n",
      " 4   month                 406829 non-null  int64  \n",
      " 5   Australia             406829 non-null  uint8  \n",
      " 6   Austria               406829 non-null  uint8  \n",
      " 7   Bahrain               406829 non-null  uint8  \n",
      " 8   Belgium               406829 non-null  uint8  \n",
      " 9   Brazil                406829 non-null  uint8  \n",
      " 10  Canada                406829 non-null  uint8  \n",
      " 11  Channel Islands       406829 non-null  uint8  \n",
      " 12  Cyprus                406829 non-null  uint8  \n",
      " 13  Czech Republic        406829 non-null  uint8  \n",
      " 14  Denmark               406829 non-null  uint8  \n",
      " 15  EIRE                  406829 non-null  uint8  \n",
      " 16  European Community    406829 non-null  uint8  \n",
      " 17  Finland               406829 non-null  uint8  \n",
      " 18  France                406829 non-null  uint8  \n",
      " 19  Germany               406829 non-null  uint8  \n",
      " 20  Greece                406829 non-null  uint8  \n",
      " 21  Iceland               406829 non-null  uint8  \n",
      " 22  Israel                406829 non-null  uint8  \n",
      " 23  Italy                 406829 non-null  uint8  \n",
      " 24  Japan                 406829 non-null  uint8  \n",
      " 25  Lebanon               406829 non-null  uint8  \n",
      " 26  Lithuania             406829 non-null  uint8  \n",
      " 27  Malta                 406829 non-null  uint8  \n",
      " 28  Netherlands           406829 non-null  uint8  \n",
      " 29  Norway                406829 non-null  uint8  \n",
      " 30  Poland                406829 non-null  uint8  \n",
      " 31  Portugal              406829 non-null  uint8  \n",
      " 32  RSA                   406829 non-null  uint8  \n",
      " 33  Saudi Arabia          406829 non-null  uint8  \n",
      " 34  Singapore             406829 non-null  uint8  \n",
      " 35  Spain                 406829 non-null  uint8  \n",
      " 36  Sweden                406829 non-null  uint8  \n",
      " 37  Switzerland           406829 non-null  uint8  \n",
      " 38  USA                   406829 non-null  uint8  \n",
      " 39  United Arab Emirates  406829 non-null  uint8  \n",
      " 40  United Kingdom        406829 non-null  uint8  \n",
      " 41  Unspecified           406829 non-null  uint8  \n",
      "dtypes: float64(2), int64(3), uint8(37)\n",
      "memory usage: 33.0 MB\n"
     ]
    }
   ],
   "source": [
    "df.info()"
   ]
  },
  {
   "cell_type": "code",
   "execution_count": 73,
   "id": "rational-television",
   "metadata": {},
   "outputs": [],
   "source": [
    "df.to_csv('final_dataset' , index = False)"
   ]
  },
  {
   "cell_type": "markdown",
   "id": "annoying-privilege",
   "metadata": {},
   "source": [
    "# Scaling and Preprocessing the data"
   ]
  },
  {
   "cell_type": "code",
   "execution_count": 74,
   "id": "competent-acrobat",
   "metadata": {},
   "outputs": [],
   "source": [
    "from sklearn.preprocessing import StandardScaler\n",
    "scaler = StandardScaler()\n",
    "scaled_data = scaler.fit_transform(df)"
   ]
  },
  {
   "cell_type": "code",
   "execution_count": 75,
   "id": "amber-blocking",
   "metadata": {},
   "outputs": [
    {
     "data": {
      "text/html": [
       "<div>\n",
       "<style scoped>\n",
       "    .dataframe tbody tr th:only-of-type {\n",
       "        vertical-align: middle;\n",
       "    }\n",
       "\n",
       "    .dataframe tbody tr th {\n",
       "        vertical-align: top;\n",
       "    }\n",
       "\n",
       "    .dataframe thead th {\n",
       "        text-align: right;\n",
       "    }\n",
       "</style>\n",
       "<table border=\"1\" class=\"dataframe\">\n",
       "  <thead>\n",
       "    <tr style=\"text-align: right;\">\n",
       "      <th></th>\n",
       "      <th>Quantity</th>\n",
       "      <th>UnitPrice</th>\n",
       "      <th>Hour_of_day</th>\n",
       "      <th>weekday</th>\n",
       "      <th>month</th>\n",
       "      <th>Australia</th>\n",
       "      <th>Austria</th>\n",
       "      <th>Bahrain</th>\n",
       "      <th>Belgium</th>\n",
       "      <th>Brazil</th>\n",
       "      <th>...</th>\n",
       "      <th>RSA</th>\n",
       "      <th>Saudi Arabia</th>\n",
       "      <th>Singapore</th>\n",
       "      <th>Spain</th>\n",
       "      <th>Sweden</th>\n",
       "      <th>Switzerland</th>\n",
       "      <th>USA</th>\n",
       "      <th>United Arab Emirates</th>\n",
       "      <th>United Kingdom</th>\n",
       "      <th>Unspecified</th>\n",
       "    </tr>\n",
       "  </thead>\n",
       "  <tbody>\n",
       "    <tr>\n",
       "      <th>0</th>\n",
       "      <td>-0.288914</td>\n",
       "      <td>-0.109299</td>\n",
       "      <td>-2.073338</td>\n",
       "      <td>-0.315521</td>\n",
       "      <td>1.28521</td>\n",
       "      <td>-0.055716</td>\n",
       "      <td>-0.031411</td>\n",
       "      <td>-0.006464</td>\n",
       "      <td>-0.071496</td>\n",
       "      <td>-0.008869</td>\n",
       "      <td>...</td>\n",
       "      <td>-0.011941</td>\n",
       "      <td>-0.004958</td>\n",
       "      <td>-0.023732</td>\n",
       "      <td>-0.079153</td>\n",
       "      <td>-0.033718</td>\n",
       "      <td>-0.068082</td>\n",
       "      <td>-0.026754</td>\n",
       "      <td>-0.01293</td>\n",
       "      <td>0.352443</td>\n",
       "      <td>-0.024497</td>\n",
       "    </tr>\n",
       "    <tr>\n",
       "      <th>1</th>\n",
       "      <td>-0.288914</td>\n",
       "      <td>0.188116</td>\n",
       "      <td>-2.073338</td>\n",
       "      <td>-0.315521</td>\n",
       "      <td>1.28521</td>\n",
       "      <td>-0.055716</td>\n",
       "      <td>-0.031411</td>\n",
       "      <td>-0.006464</td>\n",
       "      <td>-0.071496</td>\n",
       "      <td>-0.008869</td>\n",
       "      <td>...</td>\n",
       "      <td>-0.011941</td>\n",
       "      <td>-0.004958</td>\n",
       "      <td>-0.023732</td>\n",
       "      <td>-0.079153</td>\n",
       "      <td>-0.033718</td>\n",
       "      <td>-0.068082</td>\n",
       "      <td>-0.026754</td>\n",
       "      <td>-0.01293</td>\n",
       "      <td>0.352443</td>\n",
       "      <td>-0.024497</td>\n",
       "    </tr>\n",
       "    <tr>\n",
       "      <th>2</th>\n",
       "      <td>-0.114609</td>\n",
       "      <td>-0.038486</td>\n",
       "      <td>-2.073338</td>\n",
       "      <td>-0.315521</td>\n",
       "      <td>1.28521</td>\n",
       "      <td>-0.055716</td>\n",
       "      <td>-0.031411</td>\n",
       "      <td>-0.006464</td>\n",
       "      <td>-0.071496</td>\n",
       "      <td>-0.008869</td>\n",
       "      <td>...</td>\n",
       "      <td>-0.011941</td>\n",
       "      <td>-0.004958</td>\n",
       "      <td>-0.023732</td>\n",
       "      <td>-0.079153</td>\n",
       "      <td>-0.033718</td>\n",
       "      <td>-0.068082</td>\n",
       "      <td>-0.026754</td>\n",
       "      <td>-0.01293</td>\n",
       "      <td>0.352443</td>\n",
       "      <td>-0.024497</td>\n",
       "    </tr>\n",
       "    <tr>\n",
       "      <th>3</th>\n",
       "      <td>-0.288914</td>\n",
       "      <td>0.188116</td>\n",
       "      <td>-2.073338</td>\n",
       "      <td>-0.315521</td>\n",
       "      <td>1.28521</td>\n",
       "      <td>-0.055716</td>\n",
       "      <td>-0.031411</td>\n",
       "      <td>-0.006464</td>\n",
       "      <td>-0.071496</td>\n",
       "      <td>-0.008869</td>\n",
       "      <td>...</td>\n",
       "      <td>-0.011941</td>\n",
       "      <td>-0.004958</td>\n",
       "      <td>-0.023732</td>\n",
       "      <td>-0.079153</td>\n",
       "      <td>-0.033718</td>\n",
       "      <td>-0.068082</td>\n",
       "      <td>-0.026754</td>\n",
       "      <td>-0.01293</td>\n",
       "      <td>0.352443</td>\n",
       "      <td>-0.024497</td>\n",
       "    </tr>\n",
       "    <tr>\n",
       "      <th>4</th>\n",
       "      <td>-0.288914</td>\n",
       "      <td>0.188116</td>\n",
       "      <td>-2.073338</td>\n",
       "      <td>-0.315521</td>\n",
       "      <td>1.28521</td>\n",
       "      <td>-0.055716</td>\n",
       "      <td>-0.031411</td>\n",
       "      <td>-0.006464</td>\n",
       "      <td>-0.071496</td>\n",
       "      <td>-0.008869</td>\n",
       "      <td>...</td>\n",
       "      <td>-0.011941</td>\n",
       "      <td>-0.004958</td>\n",
       "      <td>-0.023732</td>\n",
       "      <td>-0.079153</td>\n",
       "      <td>-0.033718</td>\n",
       "      <td>-0.068082</td>\n",
       "      <td>-0.026754</td>\n",
       "      <td>-0.01293</td>\n",
       "      <td>0.352443</td>\n",
       "      <td>-0.024497</td>\n",
       "    </tr>\n",
       "  </tbody>\n",
       "</table>\n",
       "<p>5 rows × 42 columns</p>\n",
       "</div>"
      ],
      "text/plain": [
       "   Quantity  UnitPrice  Hour_of_day   weekday    month  Australia   Austria  \\\n",
       "0 -0.288914  -0.109299    -2.073338 -0.315521  1.28521  -0.055716 -0.031411   \n",
       "1 -0.288914   0.188116    -2.073338 -0.315521  1.28521  -0.055716 -0.031411   \n",
       "2 -0.114609  -0.038486    -2.073338 -0.315521  1.28521  -0.055716 -0.031411   \n",
       "3 -0.288914   0.188116    -2.073338 -0.315521  1.28521  -0.055716 -0.031411   \n",
       "4 -0.288914   0.188116    -2.073338 -0.315521  1.28521  -0.055716 -0.031411   \n",
       "\n",
       "    Bahrain   Belgium    Brazil  ...       RSA  Saudi Arabia  Singapore  \\\n",
       "0 -0.006464 -0.071496 -0.008869  ... -0.011941     -0.004958  -0.023732   \n",
       "1 -0.006464 -0.071496 -0.008869  ... -0.011941     -0.004958  -0.023732   \n",
       "2 -0.006464 -0.071496 -0.008869  ... -0.011941     -0.004958  -0.023732   \n",
       "3 -0.006464 -0.071496 -0.008869  ... -0.011941     -0.004958  -0.023732   \n",
       "4 -0.006464 -0.071496 -0.008869  ... -0.011941     -0.004958  -0.023732   \n",
       "\n",
       "      Spain    Sweden  Switzerland       USA  United Arab Emirates  \\\n",
       "0 -0.079153 -0.033718    -0.068082 -0.026754              -0.01293   \n",
       "1 -0.079153 -0.033718    -0.068082 -0.026754              -0.01293   \n",
       "2 -0.079153 -0.033718    -0.068082 -0.026754              -0.01293   \n",
       "3 -0.079153 -0.033718    -0.068082 -0.026754              -0.01293   \n",
       "4 -0.079153 -0.033718    -0.068082 -0.026754              -0.01293   \n",
       "\n",
       "   United Kingdom  Unspecified  \n",
       "0        0.352443    -0.024497  \n",
       "1        0.352443    -0.024497  \n",
       "2        0.352443    -0.024497  \n",
       "3        0.352443    -0.024497  \n",
       "4        0.352443    -0.024497  \n",
       "\n",
       "[5 rows x 42 columns]"
      ]
     },
     "execution_count": 75,
     "metadata": {},
     "output_type": "execute_result"
    }
   ],
   "source": [
    "scaled_df = pd.DataFrame(scaled_data , columns = df.columns)\n",
    "scaled_df.head()"
   ]
  },
  {
   "cell_type": "code",
   "execution_count": 76,
   "id": "bright-phenomenon",
   "metadata": {},
   "outputs": [
    {
     "data": {
      "text/html": [
       "<div>\n",
       "<style scoped>\n",
       "    .dataframe tbody tr th:only-of-type {\n",
       "        vertical-align: middle;\n",
       "    }\n",
       "\n",
       "    .dataframe tbody tr th {\n",
       "        vertical-align: top;\n",
       "    }\n",
       "\n",
       "    .dataframe thead th {\n",
       "        text-align: right;\n",
       "    }\n",
       "</style>\n",
       "<table border=\"1\" class=\"dataframe\">\n",
       "  <thead>\n",
       "    <tr style=\"text-align: right;\">\n",
       "      <th></th>\n",
       "      <th>Quantity</th>\n",
       "      <th>UnitPrice</th>\n",
       "      <th>Hour_of_day</th>\n",
       "      <th>weekday</th>\n",
       "      <th>month</th>\n",
       "      <th>Australia</th>\n",
       "      <th>Austria</th>\n",
       "      <th>Bahrain</th>\n",
       "      <th>Belgium</th>\n",
       "      <th>Brazil</th>\n",
       "      <th>...</th>\n",
       "      <th>RSA</th>\n",
       "      <th>Saudi Arabia</th>\n",
       "      <th>Singapore</th>\n",
       "      <th>Spain</th>\n",
       "      <th>Sweden</th>\n",
       "      <th>Switzerland</th>\n",
       "      <th>USA</th>\n",
       "      <th>United Arab Emirates</th>\n",
       "      <th>United Kingdom</th>\n",
       "      <th>Unspecified</th>\n",
       "    </tr>\n",
       "  </thead>\n",
       "  <tbody>\n",
       "    <tr>\n",
       "      <th>count</th>\n",
       "      <td>4.068290e+05</td>\n",
       "      <td>4.068290e+05</td>\n",
       "      <td>4.068290e+05</td>\n",
       "      <td>4.068290e+05</td>\n",
       "      <td>4.068290e+05</td>\n",
       "      <td>4.068290e+05</td>\n",
       "      <td>4.068290e+05</td>\n",
       "      <td>4.068290e+05</td>\n",
       "      <td>4.068290e+05</td>\n",
       "      <td>4.068290e+05</td>\n",
       "      <td>...</td>\n",
       "      <td>4.068290e+05</td>\n",
       "      <td>4.068290e+05</td>\n",
       "      <td>4.068290e+05</td>\n",
       "      <td>4.068290e+05</td>\n",
       "      <td>4.068290e+05</td>\n",
       "      <td>4.068290e+05</td>\n",
       "      <td>4.068290e+05</td>\n",
       "      <td>4.068290e+05</td>\n",
       "      <td>4.068290e+05</td>\n",
       "      <td>4.068290e+05</td>\n",
       "    </tr>\n",
       "    <tr>\n",
       "      <th>mean</th>\n",
       "      <td>-1.864090e-14</td>\n",
       "      <td>-7.577594e-15</td>\n",
       "      <td>-5.450337e-14</td>\n",
       "      <td>-5.571582e-15</td>\n",
       "      <td>4.928740e-13</td>\n",
       "      <td>-7.344806e-14</td>\n",
       "      <td>-1.478110e-14</td>\n",
       "      <td>3.242464e-14</td>\n",
       "      <td>3.310127e-14</td>\n",
       "      <td>-5.830262e-16</td>\n",
       "      <td>...</td>\n",
       "      <td>5.347275e-14</td>\n",
       "      <td>2.005752e-14</td>\n",
       "      <td>-3.089174e-14</td>\n",
       "      <td>2.750005e-14</td>\n",
       "      <td>-5.379422e-15</td>\n",
       "      <td>-5.141460e-14</td>\n",
       "      <td>-6.979410e-14</td>\n",
       "      <td>9.518386e-15</td>\n",
       "      <td>-2.601688e-14</td>\n",
       "      <td>-6.108844e-14</td>\n",
       "    </tr>\n",
       "    <tr>\n",
       "      <th>std</th>\n",
       "      <td>1.000001e+00</td>\n",
       "      <td>1.000001e+00</td>\n",
       "      <td>1.000001e+00</td>\n",
       "      <td>1.000001e+00</td>\n",
       "      <td>1.000001e+00</td>\n",
       "      <td>1.000001e+00</td>\n",
       "      <td>1.000001e+00</td>\n",
       "      <td>1.000001e+00</td>\n",
       "      <td>1.000001e+00</td>\n",
       "      <td>1.000001e+00</td>\n",
       "      <td>...</td>\n",
       "      <td>1.000001e+00</td>\n",
       "      <td>1.000001e+00</td>\n",
       "      <td>1.000001e+00</td>\n",
       "      <td>1.000001e+00</td>\n",
       "      <td>1.000001e+00</td>\n",
       "      <td>1.000001e+00</td>\n",
       "      <td>1.000001e+00</td>\n",
       "      <td>1.000001e+00</td>\n",
       "      <td>1.000001e+00</td>\n",
       "      <td>1.000001e+00</td>\n",
       "    </tr>\n",
       "    <tr>\n",
       "      <th>min</th>\n",
       "      <td>-7.246760e-01</td>\n",
       "      <td>-9.378136e-01</td>\n",
       "      <td>-2.948631e+00</td>\n",
       "      <td>-1.356156e+00</td>\n",
       "      <td>-1.932163e+00</td>\n",
       "      <td>-5.571600e-02</td>\n",
       "      <td>-3.141090e-02</td>\n",
       "      <td>-6.464390e-03</td>\n",
       "      <td>-7.149595e-02</td>\n",
       "      <td>-8.869234e-03</td>\n",
       "      <td>...</td>\n",
       "      <td>-1.194095e-02</td>\n",
       "      <td>-4.957919e-03</td>\n",
       "      <td>-2.373198e-02</td>\n",
       "      <td>-7.915309e-02</td>\n",
       "      <td>-3.371800e-02</td>\n",
       "      <td>-6.808170e-02</td>\n",
       "      <td>-2.675444e-02</td>\n",
       "      <td>-1.292959e-02</td>\n",
       "      <td>-2.837340e+00</td>\n",
       "      <td>-2.449736e-02</td>\n",
       "    </tr>\n",
       "    <tr>\n",
       "      <th>25%</th>\n",
       "      <td>-6.375236e-01</td>\n",
       "      <td>-5.695849e-01</td>\n",
       "      <td>-7.603986e-01</td>\n",
       "      <td>-8.358387e-01</td>\n",
       "      <td>-7.622096e-01</td>\n",
       "      <td>-5.571600e-02</td>\n",
       "      <td>-3.141090e-02</td>\n",
       "      <td>-6.464390e-03</td>\n",
       "      <td>-7.149595e-02</td>\n",
       "      <td>-8.869234e-03</td>\n",
       "      <td>...</td>\n",
       "      <td>-1.194095e-02</td>\n",
       "      <td>-4.957919e-03</td>\n",
       "      <td>-2.373198e-02</td>\n",
       "      <td>-7.915309e-02</td>\n",
       "      <td>-3.371800e-02</td>\n",
       "      <td>-6.808170e-02</td>\n",
       "      <td>-2.675444e-02</td>\n",
       "      <td>-1.292959e-02</td>\n",
       "      <td>3.524428e-01</td>\n",
       "      <td>-2.449736e-02</td>\n",
       "    </tr>\n",
       "    <tr>\n",
       "      <th>50%</th>\n",
       "      <td>-3.760664e-01</td>\n",
       "      <td>-3.217388e-01</td>\n",
       "      <td>1.148945e-01</td>\n",
       "      <td>-3.155215e-01</td>\n",
       "      <td>1.152558e-01</td>\n",
       "      <td>-5.571600e-02</td>\n",
       "      <td>-3.141090e-02</td>\n",
       "      <td>-6.464390e-03</td>\n",
       "      <td>-7.149595e-02</td>\n",
       "      <td>-8.869234e-03</td>\n",
       "      <td>...</td>\n",
       "      <td>-1.194095e-02</td>\n",
       "      <td>-4.957919e-03</td>\n",
       "      <td>-2.373198e-02</td>\n",
       "      <td>-7.915309e-02</td>\n",
       "      <td>-3.371800e-02</td>\n",
       "      <td>-6.808170e-02</td>\n",
       "      <td>-2.675444e-02</td>\n",
       "      <td>-1.292959e-02</td>\n",
       "      <td>3.524428e-01</td>\n",
       "      <td>-2.449736e-02</td>\n",
       "    </tr>\n",
       "    <tr>\n",
       "      <th>75%</th>\n",
       "      <td>2.340003e-01</td>\n",
       "      <td>3.155800e-01</td>\n",
       "      <td>5.525410e-01</td>\n",
       "      <td>7.251129e-01</td>\n",
       "      <td>9.927212e-01</td>\n",
       "      <td>-5.571600e-02</td>\n",
       "      <td>-3.141090e-02</td>\n",
       "      <td>-6.464390e-03</td>\n",
       "      <td>-7.149595e-02</td>\n",
       "      <td>-8.869234e-03</td>\n",
       "      <td>...</td>\n",
       "      <td>-1.194095e-02</td>\n",
       "      <td>-4.957919e-03</td>\n",
       "      <td>-2.373198e-02</td>\n",
       "      <td>-7.915309e-02</td>\n",
       "      <td>-3.371800e-02</td>\n",
       "      <td>-6.808170e-02</td>\n",
       "      <td>-2.675444e-02</td>\n",
       "      <td>-1.292959e-02</td>\n",
       "      <td>3.524428e-01</td>\n",
       "      <td>-2.449736e-02</td>\n",
       "    </tr>\n",
       "    <tr>\n",
       "      <th>max</th>\n",
       "      <td>3.545791e+00</td>\n",
       "      <td>4.298822e+00</td>\n",
       "      <td>3.178420e+00</td>\n",
       "      <td>1.765747e+00</td>\n",
       "      <td>1.285210e+00</td>\n",
       "      <td>1.794816e+01</td>\n",
       "      <td>3.183608e+01</td>\n",
       "      <td>1.546936e+02</td>\n",
       "      <td>1.398681e+01</td>\n",
       "      <td>1.127493e+02</td>\n",
       "      <td>...</td>\n",
       "      <td>8.374541e+01</td>\n",
       "      <td>2.016975e+02</td>\n",
       "      <td>4.213723e+01</td>\n",
       "      <td>1.263375e+01</td>\n",
       "      <td>2.965775e+01</td>\n",
       "      <td>1.468824e+01</td>\n",
       "      <td>3.737697e+01</td>\n",
       "      <td>7.734196e+01</td>\n",
       "      <td>3.524428e-01</td>\n",
       "      <td>4.082073e+01</td>\n",
       "    </tr>\n",
       "  </tbody>\n",
       "</table>\n",
       "<p>8 rows × 42 columns</p>\n",
       "</div>"
      ],
      "text/plain": [
       "           Quantity     UnitPrice   Hour_of_day       weekday         month  \\\n",
       "count  4.068290e+05  4.068290e+05  4.068290e+05  4.068290e+05  4.068290e+05   \n",
       "mean  -1.864090e-14 -7.577594e-15 -5.450337e-14 -5.571582e-15  4.928740e-13   \n",
       "std    1.000001e+00  1.000001e+00  1.000001e+00  1.000001e+00  1.000001e+00   \n",
       "min   -7.246760e-01 -9.378136e-01 -2.948631e+00 -1.356156e+00 -1.932163e+00   \n",
       "25%   -6.375236e-01 -5.695849e-01 -7.603986e-01 -8.358387e-01 -7.622096e-01   \n",
       "50%   -3.760664e-01 -3.217388e-01  1.148945e-01 -3.155215e-01  1.152558e-01   \n",
       "75%    2.340003e-01  3.155800e-01  5.525410e-01  7.251129e-01  9.927212e-01   \n",
       "max    3.545791e+00  4.298822e+00  3.178420e+00  1.765747e+00  1.285210e+00   \n",
       "\n",
       "          Australia       Austria       Bahrain       Belgium        Brazil  \\\n",
       "count  4.068290e+05  4.068290e+05  4.068290e+05  4.068290e+05  4.068290e+05   \n",
       "mean  -7.344806e-14 -1.478110e-14  3.242464e-14  3.310127e-14 -5.830262e-16   \n",
       "std    1.000001e+00  1.000001e+00  1.000001e+00  1.000001e+00  1.000001e+00   \n",
       "min   -5.571600e-02 -3.141090e-02 -6.464390e-03 -7.149595e-02 -8.869234e-03   \n",
       "25%   -5.571600e-02 -3.141090e-02 -6.464390e-03 -7.149595e-02 -8.869234e-03   \n",
       "50%   -5.571600e-02 -3.141090e-02 -6.464390e-03 -7.149595e-02 -8.869234e-03   \n",
       "75%   -5.571600e-02 -3.141090e-02 -6.464390e-03 -7.149595e-02 -8.869234e-03   \n",
       "max    1.794816e+01  3.183608e+01  1.546936e+02  1.398681e+01  1.127493e+02   \n",
       "\n",
       "       ...           RSA  Saudi Arabia     Singapore         Spain  \\\n",
       "count  ...  4.068290e+05  4.068290e+05  4.068290e+05  4.068290e+05   \n",
       "mean   ...  5.347275e-14  2.005752e-14 -3.089174e-14  2.750005e-14   \n",
       "std    ...  1.000001e+00  1.000001e+00  1.000001e+00  1.000001e+00   \n",
       "min    ... -1.194095e-02 -4.957919e-03 -2.373198e-02 -7.915309e-02   \n",
       "25%    ... -1.194095e-02 -4.957919e-03 -2.373198e-02 -7.915309e-02   \n",
       "50%    ... -1.194095e-02 -4.957919e-03 -2.373198e-02 -7.915309e-02   \n",
       "75%    ... -1.194095e-02 -4.957919e-03 -2.373198e-02 -7.915309e-02   \n",
       "max    ...  8.374541e+01  2.016975e+02  4.213723e+01  1.263375e+01   \n",
       "\n",
       "             Sweden   Switzerland           USA  United Arab Emirates  \\\n",
       "count  4.068290e+05  4.068290e+05  4.068290e+05          4.068290e+05   \n",
       "mean  -5.379422e-15 -5.141460e-14 -6.979410e-14          9.518386e-15   \n",
       "std    1.000001e+00  1.000001e+00  1.000001e+00          1.000001e+00   \n",
       "min   -3.371800e-02 -6.808170e-02 -2.675444e-02         -1.292959e-02   \n",
       "25%   -3.371800e-02 -6.808170e-02 -2.675444e-02         -1.292959e-02   \n",
       "50%   -3.371800e-02 -6.808170e-02 -2.675444e-02         -1.292959e-02   \n",
       "75%   -3.371800e-02 -6.808170e-02 -2.675444e-02         -1.292959e-02   \n",
       "max    2.965775e+01  1.468824e+01  3.737697e+01          7.734196e+01   \n",
       "\n",
       "       United Kingdom   Unspecified  \n",
       "count    4.068290e+05  4.068290e+05  \n",
       "mean    -2.601688e-14 -6.108844e-14  \n",
       "std      1.000001e+00  1.000001e+00  \n",
       "min     -2.837340e+00 -2.449736e-02  \n",
       "25%      3.524428e-01 -2.449736e-02  \n",
       "50%      3.524428e-01 -2.449736e-02  \n",
       "75%      3.524428e-01 -2.449736e-02  \n",
       "max      3.524428e-01  4.082073e+01  \n",
       "\n",
       "[8 rows x 42 columns]"
      ]
     },
     "execution_count": 76,
     "metadata": {},
     "output_type": "execute_result"
    }
   ],
   "source": [
    "scaled_df.describe()"
   ]
  },
  {
   "cell_type": "code",
   "execution_count": 77,
   "id": "higher-purple",
   "metadata": {},
   "outputs": [],
   "source": [
    "# We can see after standard scaling our mean is close to zero and standard deviation is equal to 1"
   ]
  },
  {
   "cell_type": "code",
   "execution_count": null,
   "id": "welcome-communications",
   "metadata": {},
   "outputs": [],
   "source": []
  },
  {
   "cell_type": "markdown",
   "id": "arctic-inspection",
   "metadata": {},
   "source": [
    "# Forming it into clusters"
   ]
  },
  {
   "cell_type": "code",
   "execution_count": 78,
   "id": "parallel-prefix",
   "metadata": {},
   "outputs": [],
   "source": [
    "# importing the clustering library\n",
    "\n",
    "from sklearn.cluster import KMeans\n",
    "kmean = KMeans(n_clusters = 2)"
   ]
  },
  {
   "cell_type": "code",
   "execution_count": 79,
   "id": "brazilian-addiction",
   "metadata": {},
   "outputs": [
    {
     "data": {
      "text/plain": [
       "KMeans(n_clusters=2)"
      ]
     },
     "execution_count": 79,
     "metadata": {},
     "output_type": "execute_result"
    }
   ],
   "source": [
    "kmean.fit(scaled_df)"
   ]
  },
  {
   "cell_type": "code",
   "execution_count": 80,
   "id": "composite-pasta",
   "metadata": {},
   "outputs": [],
   "source": [
    "pred = kmean.predict(scaled_df)"
   ]
  },
  {
   "cell_type": "code",
   "execution_count": 81,
   "id": "abstract-costa",
   "metadata": {},
   "outputs": [
    {
     "data": {
      "text/plain": [
       "array([1, 1, 1, ..., 0, 0, 0])"
      ]
     },
     "execution_count": 81,
     "metadata": {},
     "output_type": "execute_result"
    }
   ],
   "source": [
    "pred"
   ]
  },
  {
   "cell_type": "code",
   "execution_count": 82,
   "id": "korean-swedish",
   "metadata": {},
   "outputs": [
    {
     "data": {
      "text/plain": [
       "1    361878\n",
       "0     44951\n",
       "dtype: int64"
      ]
     },
     "execution_count": 82,
     "metadata": {},
     "output_type": "execute_result"
    }
   ],
   "source": [
    "pd.DataFrame(pred).value_counts()"
   ]
  },
  {
   "cell_type": "code",
   "execution_count": 84,
   "id": "expensive-institute",
   "metadata": {},
   "outputs": [
    {
     "data": {
      "text/plain": [
       "-16298487.602190668"
      ]
     },
     "execution_count": 84,
     "metadata": {},
     "output_type": "execute_result"
    }
   ],
   "source": [
    "kmean.score(scaled_df)"
   ]
  },
  {
   "cell_type": "code",
   "execution_count": 89,
   "id": "expanded-bradford",
   "metadata": {},
   "outputs": [],
   "source": [
    "# Okk this is a very bad value of score. Lets try to improve it by forming more clusters."
   ]
  },
  {
   "cell_type": "code",
   "execution_count": 85,
   "id": "appreciated-iraqi",
   "metadata": {},
   "outputs": [],
   "source": [
    "SSE = []"
   ]
  },
  {
   "cell_type": "markdown",
   "id": "dress-armstrong",
   "metadata": {},
   "source": [
    "# Finding out the best value of number of clusters required with the help of inertia value."
   ]
  },
  {
   "cell_type": "code",
   "execution_count": 87,
   "id": "modified-paradise",
   "metadata": {},
   "outputs": [
    {
     "name": "stderr",
     "output_type": "stream",
     "text": [
      "C:\\ProgramData\\Anaconda3\\lib\\site-packages\\sklearn\\cluster\\_kmeans.py:793: FutureWarning: 'n_jobs' was deprecated in version 0.23 and will be removed in 1.0 (renaming of 0.25).\n",
      "  \" removed in 1.0 (renaming of 0.25).\", FutureWarning)\n",
      "C:\\ProgramData\\Anaconda3\\lib\\site-packages\\sklearn\\cluster\\_kmeans.py:793: FutureWarning: 'n_jobs' was deprecated in version 0.23 and will be removed in 1.0 (renaming of 0.25).\n",
      "  \" removed in 1.0 (renaming of 0.25).\", FutureWarning)\n",
      "C:\\ProgramData\\Anaconda3\\lib\\site-packages\\sklearn\\cluster\\_kmeans.py:793: FutureWarning: 'n_jobs' was deprecated in version 0.23 and will be removed in 1.0 (renaming of 0.25).\n",
      "  \" removed in 1.0 (renaming of 0.25).\", FutureWarning)\n",
      "C:\\ProgramData\\Anaconda3\\lib\\site-packages\\sklearn\\cluster\\_kmeans.py:793: FutureWarning: 'n_jobs' was deprecated in version 0.23 and will be removed in 1.0 (renaming of 0.25).\n",
      "  \" removed in 1.0 (renaming of 0.25).\", FutureWarning)\n",
      "C:\\ProgramData\\Anaconda3\\lib\\site-packages\\sklearn\\cluster\\_kmeans.py:793: FutureWarning: 'n_jobs' was deprecated in version 0.23 and will be removed in 1.0 (renaming of 0.25).\n",
      "  \" removed in 1.0 (renaming of 0.25).\", FutureWarning)\n",
      "C:\\ProgramData\\Anaconda3\\lib\\site-packages\\sklearn\\cluster\\_kmeans.py:793: FutureWarning: 'n_jobs' was deprecated in version 0.23 and will be removed in 1.0 (renaming of 0.25).\n",
      "  \" removed in 1.0 (renaming of 0.25).\", FutureWarning)\n",
      "C:\\ProgramData\\Anaconda3\\lib\\site-packages\\sklearn\\cluster\\_kmeans.py:793: FutureWarning: 'n_jobs' was deprecated in version 0.23 and will be removed in 1.0 (renaming of 0.25).\n",
      "  \" removed in 1.0 (renaming of 0.25).\", FutureWarning)\n",
      "C:\\ProgramData\\Anaconda3\\lib\\site-packages\\sklearn\\cluster\\_kmeans.py:793: FutureWarning: 'n_jobs' was deprecated in version 0.23 and will be removed in 1.0 (renaming of 0.25).\n",
      "  \" removed in 1.0 (renaming of 0.25).\", FutureWarning)\n",
      "C:\\ProgramData\\Anaconda3\\lib\\site-packages\\sklearn\\cluster\\_kmeans.py:793: FutureWarning: 'n_jobs' was deprecated in version 0.23 and will be removed in 1.0 (renaming of 0.25).\n",
      "  \" removed in 1.0 (renaming of 0.25).\", FutureWarning)\n",
      "C:\\ProgramData\\Anaconda3\\lib\\site-packages\\sklearn\\cluster\\_kmeans.py:793: FutureWarning: 'n_jobs' was deprecated in version 0.23 and will be removed in 1.0 (renaming of 0.25).\n",
      "  \" removed in 1.0 (renaming of 0.25).\", FutureWarning)\n",
      "C:\\ProgramData\\Anaconda3\\lib\\site-packages\\sklearn\\cluster\\_kmeans.py:793: FutureWarning: 'n_jobs' was deprecated in version 0.23 and will be removed in 1.0 (renaming of 0.25).\n",
      "  \" removed in 1.0 (renaming of 0.25).\", FutureWarning)\n",
      "C:\\ProgramData\\Anaconda3\\lib\\site-packages\\sklearn\\cluster\\_kmeans.py:793: FutureWarning: 'n_jobs' was deprecated in version 0.23 and will be removed in 1.0 (renaming of 0.25).\n",
      "  \" removed in 1.0 (renaming of 0.25).\", FutureWarning)\n",
      "C:\\ProgramData\\Anaconda3\\lib\\site-packages\\sklearn\\cluster\\_kmeans.py:793: FutureWarning: 'n_jobs' was deprecated in version 0.23 and will be removed in 1.0 (renaming of 0.25).\n",
      "  \" removed in 1.0 (renaming of 0.25).\", FutureWarning)\n",
      "C:\\ProgramData\\Anaconda3\\lib\\site-packages\\sklearn\\cluster\\_kmeans.py:793: FutureWarning: 'n_jobs' was deprecated in version 0.23 and will be removed in 1.0 (renaming of 0.25).\n",
      "  \" removed in 1.0 (renaming of 0.25).\", FutureWarning)\n",
      "C:\\ProgramData\\Anaconda3\\lib\\site-packages\\sklearn\\cluster\\_kmeans.py:793: FutureWarning: 'n_jobs' was deprecated in version 0.23 and will be removed in 1.0 (renaming of 0.25).\n",
      "  \" removed in 1.0 (renaming of 0.25).\", FutureWarning)\n",
      "C:\\ProgramData\\Anaconda3\\lib\\site-packages\\sklearn\\cluster\\_kmeans.py:793: FutureWarning: 'n_jobs' was deprecated in version 0.23 and will be removed in 1.0 (renaming of 0.25).\n",
      "  \" removed in 1.0 (renaming of 0.25).\", FutureWarning)\n",
      "C:\\ProgramData\\Anaconda3\\lib\\site-packages\\sklearn\\cluster\\_kmeans.py:793: FutureWarning: 'n_jobs' was deprecated in version 0.23 and will be removed in 1.0 (renaming of 0.25).\n",
      "  \" removed in 1.0 (renaming of 0.25).\", FutureWarning)\n",
      "C:\\ProgramData\\Anaconda3\\lib\\site-packages\\sklearn\\cluster\\_kmeans.py:793: FutureWarning: 'n_jobs' was deprecated in version 0.23 and will be removed in 1.0 (renaming of 0.25).\n",
      "  \" removed in 1.0 (renaming of 0.25).\", FutureWarning)\n",
      "C:\\ProgramData\\Anaconda3\\lib\\site-packages\\sklearn\\cluster\\_kmeans.py:793: FutureWarning: 'n_jobs' was deprecated in version 0.23 and will be removed in 1.0 (renaming of 0.25).\n",
      "  \" removed in 1.0 (renaming of 0.25).\", FutureWarning)\n",
      "C:\\ProgramData\\Anaconda3\\lib\\site-packages\\sklearn\\cluster\\_kmeans.py:793: FutureWarning: 'n_jobs' was deprecated in version 0.23 and will be removed in 1.0 (renaming of 0.25).\n",
      "  \" removed in 1.0 (renaming of 0.25).\", FutureWarning)\n",
      "C:\\ProgramData\\Anaconda3\\lib\\site-packages\\sklearn\\cluster\\_kmeans.py:793: FutureWarning: 'n_jobs' was deprecated in version 0.23 and will be removed in 1.0 (renaming of 0.25).\n",
      "  \" removed in 1.0 (renaming of 0.25).\", FutureWarning)\n",
      "C:\\ProgramData\\Anaconda3\\lib\\site-packages\\sklearn\\cluster\\_kmeans.py:793: FutureWarning: 'n_jobs' was deprecated in version 0.23 and will be removed in 1.0 (renaming of 0.25).\n",
      "  \" removed in 1.0 (renaming of 0.25).\", FutureWarning)\n",
      "C:\\ProgramData\\Anaconda3\\lib\\site-packages\\sklearn\\cluster\\_kmeans.py:793: FutureWarning: 'n_jobs' was deprecated in version 0.23 and will be removed in 1.0 (renaming of 0.25).\n",
      "  \" removed in 1.0 (renaming of 0.25).\", FutureWarning)\n",
      "C:\\ProgramData\\Anaconda3\\lib\\site-packages\\sklearn\\cluster\\_kmeans.py:793: FutureWarning: 'n_jobs' was deprecated in version 0.23 and will be removed in 1.0 (renaming of 0.25).\n",
      "  \" removed in 1.0 (renaming of 0.25).\", FutureWarning)\n",
      "C:\\ProgramData\\Anaconda3\\lib\\site-packages\\sklearn\\cluster\\_kmeans.py:793: FutureWarning: 'n_jobs' was deprecated in version 0.23 and will be removed in 1.0 (renaming of 0.25).\n",
      "  \" removed in 1.0 (renaming of 0.25).\", FutureWarning)\n",
      "C:\\ProgramData\\Anaconda3\\lib\\site-packages\\sklearn\\cluster\\_kmeans.py:793: FutureWarning: 'n_jobs' was deprecated in version 0.23 and will be removed in 1.0 (renaming of 0.25).\n",
      "  \" removed in 1.0 (renaming of 0.25).\", FutureWarning)\n",
      "C:\\ProgramData\\Anaconda3\\lib\\site-packages\\sklearn\\cluster\\_kmeans.py:793: FutureWarning: 'n_jobs' was deprecated in version 0.23 and will be removed in 1.0 (renaming of 0.25).\n",
      "  \" removed in 1.0 (renaming of 0.25).\", FutureWarning)\n",
      "C:\\ProgramData\\Anaconda3\\lib\\site-packages\\sklearn\\cluster\\_kmeans.py:793: FutureWarning: 'n_jobs' was deprecated in version 0.23 and will be removed in 1.0 (renaming of 0.25).\n",
      "  \" removed in 1.0 (renaming of 0.25).\", FutureWarning)\n",
      "C:\\ProgramData\\Anaconda3\\lib\\site-packages\\sklearn\\cluster\\_kmeans.py:793: FutureWarning: 'n_jobs' was deprecated in version 0.23 and will be removed in 1.0 (renaming of 0.25).\n",
      "  \" removed in 1.0 (renaming of 0.25).\", FutureWarning)\n",
      "C:\\ProgramData\\Anaconda3\\lib\\site-packages\\sklearn\\cluster\\_kmeans.py:793: FutureWarning: 'n_jobs' was deprecated in version 0.23 and will be removed in 1.0 (renaming of 0.25).\n",
      "  \" removed in 1.0 (renaming of 0.25).\", FutureWarning)\n",
      "C:\\ProgramData\\Anaconda3\\lib\\site-packages\\sklearn\\cluster\\_kmeans.py:793: FutureWarning: 'n_jobs' was deprecated in version 0.23 and will be removed in 1.0 (renaming of 0.25).\n",
      "  \" removed in 1.0 (renaming of 0.25).\", FutureWarning)\n",
      "C:\\ProgramData\\Anaconda3\\lib\\site-packages\\sklearn\\cluster\\_kmeans.py:793: FutureWarning: 'n_jobs' was deprecated in version 0.23 and will be removed in 1.0 (renaming of 0.25).\n",
      "  \" removed in 1.0 (renaming of 0.25).\", FutureWarning)\n",
      "C:\\ProgramData\\Anaconda3\\lib\\site-packages\\sklearn\\cluster\\_kmeans.py:793: FutureWarning: 'n_jobs' was deprecated in version 0.23 and will be removed in 1.0 (renaming of 0.25).\n",
      "  \" removed in 1.0 (renaming of 0.25).\", FutureWarning)\n",
      "C:\\ProgramData\\Anaconda3\\lib\\site-packages\\sklearn\\cluster\\_kmeans.py:793: FutureWarning: 'n_jobs' was deprecated in version 0.23 and will be removed in 1.0 (renaming of 0.25).\n",
      "  \" removed in 1.0 (renaming of 0.25).\", FutureWarning)\n",
      "C:\\ProgramData\\Anaconda3\\lib\\site-packages\\sklearn\\cluster\\_kmeans.py:793: FutureWarning: 'n_jobs' was deprecated in version 0.23 and will be removed in 1.0 (renaming of 0.25).\n",
      "  \" removed in 1.0 (renaming of 0.25).\", FutureWarning)\n",
      "C:\\ProgramData\\Anaconda3\\lib\\site-packages\\sklearn\\cluster\\_kmeans.py:793: FutureWarning: 'n_jobs' was deprecated in version 0.23 and will be removed in 1.0 (renaming of 0.25).\n",
      "  \" removed in 1.0 (renaming of 0.25).\", FutureWarning)\n"
     ]
    },
    {
     "name": "stderr",
     "output_type": "stream",
     "text": [
      "C:\\ProgramData\\Anaconda3\\lib\\site-packages\\sklearn\\cluster\\_kmeans.py:793: FutureWarning: 'n_jobs' was deprecated in version 0.23 and will be removed in 1.0 (renaming of 0.25).\n",
      "  \" removed in 1.0 (renaming of 0.25).\", FutureWarning)\n",
      "C:\\ProgramData\\Anaconda3\\lib\\site-packages\\sklearn\\cluster\\_kmeans.py:793: FutureWarning: 'n_jobs' was deprecated in version 0.23 and will be removed in 1.0 (renaming of 0.25).\n",
      "  \" removed in 1.0 (renaming of 0.25).\", FutureWarning)\n",
      "C:\\ProgramData\\Anaconda3\\lib\\site-packages\\sklearn\\cluster\\_kmeans.py:793: FutureWarning: 'n_jobs' was deprecated in version 0.23 and will be removed in 1.0 (renaming of 0.25).\n",
      "  \" removed in 1.0 (renaming of 0.25).\", FutureWarning)\n",
      "C:\\ProgramData\\Anaconda3\\lib\\site-packages\\sklearn\\cluster\\_kmeans.py:793: FutureWarning: 'n_jobs' was deprecated in version 0.23 and will be removed in 1.0 (renaming of 0.25).\n",
      "  \" removed in 1.0 (renaming of 0.25).\", FutureWarning)\n",
      "C:\\ProgramData\\Anaconda3\\lib\\site-packages\\sklearn\\cluster\\_kmeans.py:793: FutureWarning: 'n_jobs' was deprecated in version 0.23 and will be removed in 1.0 (renaming of 0.25).\n",
      "  \" removed in 1.0 (renaming of 0.25).\", FutureWarning)\n",
      "C:\\ProgramData\\Anaconda3\\lib\\site-packages\\sklearn\\cluster\\_kmeans.py:793: FutureWarning: 'n_jobs' was deprecated in version 0.23 and will be removed in 1.0 (renaming of 0.25).\n",
      "  \" removed in 1.0 (renaming of 0.25).\", FutureWarning)\n",
      "C:\\ProgramData\\Anaconda3\\lib\\site-packages\\sklearn\\cluster\\_kmeans.py:793: FutureWarning: 'n_jobs' was deprecated in version 0.23 and will be removed in 1.0 (renaming of 0.25).\n",
      "  \" removed in 1.0 (renaming of 0.25).\", FutureWarning)\n",
      "C:\\ProgramData\\Anaconda3\\lib\\site-packages\\sklearn\\cluster\\_kmeans.py:793: FutureWarning: 'n_jobs' was deprecated in version 0.23 and will be removed in 1.0 (renaming of 0.25).\n",
      "  \" removed in 1.0 (renaming of 0.25).\", FutureWarning)\n",
      "C:\\ProgramData\\Anaconda3\\lib\\site-packages\\sklearn\\cluster\\_kmeans.py:793: FutureWarning: 'n_jobs' was deprecated in version 0.23 and will be removed in 1.0 (renaming of 0.25).\n",
      "  \" removed in 1.0 (renaming of 0.25).\", FutureWarning)\n",
      "C:\\ProgramData\\Anaconda3\\lib\\site-packages\\sklearn\\cluster\\_kmeans.py:793: FutureWarning: 'n_jobs' was deprecated in version 0.23 and will be removed in 1.0 (renaming of 0.25).\n",
      "  \" removed in 1.0 (renaming of 0.25).\", FutureWarning)\n",
      "C:\\ProgramData\\Anaconda3\\lib\\site-packages\\sklearn\\cluster\\_kmeans.py:793: FutureWarning: 'n_jobs' was deprecated in version 0.23 and will be removed in 1.0 (renaming of 0.25).\n",
      "  \" removed in 1.0 (renaming of 0.25).\", FutureWarning)\n",
      "C:\\ProgramData\\Anaconda3\\lib\\site-packages\\sklearn\\cluster\\_kmeans.py:793: FutureWarning: 'n_jobs' was deprecated in version 0.23 and will be removed in 1.0 (renaming of 0.25).\n",
      "  \" removed in 1.0 (renaming of 0.25).\", FutureWarning)\n",
      "C:\\ProgramData\\Anaconda3\\lib\\site-packages\\sklearn\\cluster\\_kmeans.py:793: FutureWarning: 'n_jobs' was deprecated in version 0.23 and will be removed in 1.0 (renaming of 0.25).\n",
      "  \" removed in 1.0 (renaming of 0.25).\", FutureWarning)\n"
     ]
    }
   ],
   "source": [
    "# Computing the inertia by taking various values of clusters.\n",
    "for cluster in range(1,50):\n",
    "    kmean = KMeans(n_jobs = -1 , n_clusters = cluster)\n",
    "    kmean.fit(scaled_df)\n",
    "    SSE.append(kmean.inertia_)"
   ]
  },
  {
   "cell_type": "code",
   "execution_count": 88,
   "id": "supreme-territory",
   "metadata": {},
   "outputs": [
    {
     "data": {
      "text/plain": [
       "Text(0, 0.5, 'SSE')"
      ]
     },
     "execution_count": 88,
     "metadata": {},
     "output_type": "execute_result"
    },
    {
     "data": {
      "image/png": "[encoded data removed]",
      "text/plain": [
       "<Figure size 864x576 with 1 Axes>"
      ]
     },
     "metadata": {
      "needs_background": "light"
     },
     "output_type": "display_data"
    }
   ],
   "source": [
    "# plotting the values of inertia vs number of cluster\n",
    "\n",
    "plt.figure(figsize = (12,8))\n",
    "frame_scaled = pd.DataFrame({'Cluster':range(1,50) , 'SSE':SSE})\n",
    "plt.plot(frame_scaled['Cluster'] , frame_scaled['SSE'] , marker = 'o')\n",
    "plt.xlabel('Cluster')\n",
    "plt.ylabel('SSE')"
   ]
  },
  {
   "cell_type": "code",
   "execution_count": null,
   "id": "suburban-choir",
   "metadata": {},
   "outputs": [],
   "source": [
    "# The Bend in the elbow is at value 40. Taking the cluster value as 40 and calculating the score."
   ]
  },
  {
   "cell_type": "code",
   "execution_count": 90,
   "id": "lyric-tribute",
   "metadata": {},
   "outputs": [
    {
     "name": "stderr",
     "output_type": "stream",
     "text": [
      "C:\\ProgramData\\Anaconda3\\lib\\site-packages\\sklearn\\cluster\\_kmeans.py:793: FutureWarning: 'n_jobs' was deprecated in version 0.23 and will be removed in 1.0 (renaming of 0.25).\n",
      "  \" removed in 1.0 (renaming of 0.25).\", FutureWarning)\n"
     ]
    },
    {
     "data": {
      "text/plain": [
       "KMeans(n_clusters=40, n_jobs=-1)"
      ]
     },
     "execution_count": 90,
     "metadata": {},
     "output_type": "execute_result"
    }
   ],
   "source": [
    "kmean = KMeans(n_jobs = -1 , n_clusters = 40)\n",
    "kmean.fit(scaled_df)"
   ]
  },
  {
   "cell_type": "code",
   "execution_count": 91,
   "id": "overhead-symbol",
   "metadata": {},
   "outputs": [],
   "source": [
    "pred = kmean.predict(scaled_df)"
   ]
  },
  {
   "cell_type": "code",
   "execution_count": 92,
   "id": "induced-convert",
   "metadata": {},
   "outputs": [
    {
     "data": {
      "text/plain": [
       "9     169345\n",
       "0     112684\n",
       "1      41492\n",
       "39     38357\n",
       "7       9495\n",
       "12      8491\n",
       "5       7485\n",
       "2       2533\n",
       "6       2371\n",
       "19      2069\n",
       "22      1877\n",
       "18      1480\n",
       "11      1259\n",
       "10      1086\n",
       "15       803\n",
       "3        758\n",
       "4        695\n",
       "24       622\n",
       "25       462\n",
       "29       401\n",
       "8        389\n",
       "27       358\n",
       "38       341\n",
       "23       291\n",
       "14       250\n",
       "21       244\n",
       "20       229\n",
       "17       182\n",
       "13       151\n",
       "28       146\n",
       "32       127\n",
       "26        68\n",
       "31        61\n",
       "33        58\n",
       "36        45\n",
       "35        35\n",
       "34        32\n",
       "16        30\n",
       "30        17\n",
       "37        10\n",
       "dtype: int64"
      ]
     },
     "execution_count": 92,
     "metadata": {},
     "output_type": "execute_result"
    }
   ],
   "source": [
    "pd.DataFrame(pred).value_counts()"
   ]
  },
  {
   "cell_type": "code",
   "execution_count": 93,
   "id": "patent-plasma",
   "metadata": {},
   "outputs": [
    {
     "data": {
      "text/html": [
       "<div>\n",
       "<style scoped>\n",
       "    .dataframe tbody tr th:only-of-type {\n",
       "        vertical-align: middle;\n",
       "    }\n",
       "\n",
       "    .dataframe tbody tr th {\n",
       "        vertical-align: top;\n",
       "    }\n",
       "\n",
       "    .dataframe thead th {\n",
       "        text-align: right;\n",
       "    }\n",
       "</style>\n",
       "<table border=\"1\" class=\"dataframe\">\n",
       "  <thead>\n",
       "    <tr style=\"text-align: right;\">\n",
       "      <th></th>\n",
       "      <th>0</th>\n",
       "    </tr>\n",
       "  </thead>\n",
       "  <tbody>\n",
       "    <tr>\n",
       "      <th>122703</th>\n",
       "      <td>2</td>\n",
       "    </tr>\n",
       "    <tr>\n",
       "      <th>332608</th>\n",
       "      <td>9</td>\n",
       "    </tr>\n",
       "    <tr>\n",
       "      <th>283688</th>\n",
       "      <td>1</td>\n",
       "    </tr>\n",
       "    <tr>\n",
       "      <th>267340</th>\n",
       "      <td>12</td>\n",
       "    </tr>\n",
       "    <tr>\n",
       "      <th>19320</th>\n",
       "      <td>39</td>\n",
       "    </tr>\n",
       "    <tr>\n",
       "      <th>83047</th>\n",
       "      <td>39</td>\n",
       "    </tr>\n",
       "    <tr>\n",
       "      <th>155569</th>\n",
       "      <td>0</td>\n",
       "    </tr>\n",
       "    <tr>\n",
       "      <th>308668</th>\n",
       "      <td>9</td>\n",
       "    </tr>\n",
       "    <tr>\n",
       "      <th>220727</th>\n",
       "      <td>9</td>\n",
       "    </tr>\n",
       "    <tr>\n",
       "      <th>120180</th>\n",
       "      <td>39</td>\n",
       "    </tr>\n",
       "  </tbody>\n",
       "</table>\n",
       "</div>"
      ],
      "text/plain": [
       "         0\n",
       "122703   2\n",
       "332608   9\n",
       "283688   1\n",
       "267340  12\n",
       "19320   39\n",
       "83047   39\n",
       "155569   0\n",
       "308668   9\n",
       "220727   9\n",
       "120180  39"
      ]
     },
     "execution_count": 93,
     "metadata": {},
     "output_type": "execute_result"
    }
   ],
   "source": [
    "pd.DataFrame(pred).sample(10)"
   ]
  },
  {
   "cell_type": "code",
   "execution_count": 94,
   "id": "mediterranean-exhaust",
   "metadata": {},
   "outputs": [
    {
     "data": {
      "text/plain": [
       "-1296181.7417348623"
      ]
     },
     "execution_count": 94,
     "metadata": {},
     "output_type": "execute_result"
    }
   ],
   "source": [
    "kmean.score(scaled_df)"
   ]
  },
  {
   "cell_type": "code",
   "execution_count": null,
   "id": "innovative-standing",
   "metadata": {},
   "outputs": [],
   "source": [
    "# The score is better from earlier."
   ]
  }
 ],
 "metadata": {
  "kernelspec": {
   "display_name": "Python 3",
   "language": "python",
   "name": "python3"
  },
  "language_info": {
   "codemirror_mode": {
    "name": "ipython",
    "version": 3
   },
   "file_extension": ".py",
   "mimetype": "text/x-python",
   "name": "python",
   "nbconvert_exporter": "python",
   "pygments_lexer": "ipython3",
   "version": "3.7.3"
  }
 },
 "nbformat": 4,
 "nbformat_minor": 5
}
